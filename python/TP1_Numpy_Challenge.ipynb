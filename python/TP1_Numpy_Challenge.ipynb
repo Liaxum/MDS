{
 "cells": [
  {
   "cell_type": "markdown",
   "metadata": {
    "id": "6Bp_Mwmd2z5o"
   },
   "source": [
    "# Challenge - NumPy\n",
    "\n",
    "\n",
    "![](https://images.unsplash.com/photo-1476525223214-c31ff100e1ae?ixlib=rb-1.2.1&ixid=eyJhcHBfaWQiOjEyMDd9&auto=format&fit=crop&w=1350&q=80)\n",
    "Picture by [Jason Briscoe](https://unsplash.com/photos/HN_4K2diUWs)"
   ]
  },
  {
   "cell_type": "markdown",
   "metadata": {
    "id": "OlKcpTfb2z5q"
   },
   "source": [
    "Il s'agit d'un exercice où vous devrez passer un peu de temps à explorer la documentation de [NumPy documentation](https://numpy.org/doc/1.18/).\n",
    "\n",
    "Pour installer numpy utilisez la commande suivante dans votre terminal :\n",
    "`pip install numpy`\n",
    "\n",
    "Sur macOS :\n",
    "`pip3 install numpy`\n",
    "\n",
    "\n",
    "\n",
    "Pour vous aider à réaliser ce TD, consultez et utilisez les fonctions suivantes :\n",
    "- `import numpy as np`  : Pour importer la biblothèque numpy,\n",
    "- `np.array([i1,i2,i3])` : Pour créer un vecteur contenant les éléments i1, i2 et i3,\n",
    "- `np.zeros(n)`  : Pour créer un vecteur de taille n contenant uniquement des 0,\n",
    "- `v[i]` : Pour obtenir la valeur à l'index i du vecteur v,\n",
    "- `np.random.randint(n, m, k)` : Pour créer des vecteurs de taille k ayant des valeurs aléatoires comprises entre n (inclus) à m (exclus),\n",
    "- `np.arange(n,m)`  :  Pour créer des vecteurs ayant des valeurs de n à m,\n",
    "- `v.argmax()` : Pour trouver l'indice de la valeur maximale,\n",
    "- `np.nonzero(n)`  : Pour créer des vecteurs de taille n,\n",
    "- `v.reshape(n,m)` : Pour redimensionner un vecteur de taille n,m\n",
    "- `np.eye(n)` : Pour créer une matrice identité de taille n,\n",
    "- `np.nonzero(v)` : Pour trouver les indices des valeurs non nulles deu vecteur v, \n",
    "- `v.mean()` : Pour obtenir la moyenne d'un vecteur,\n",
    "- `v.unique()` : Pour obtenir la liste des valeurs unique d'une matrice.\n",
    "- `v[i] = u` : Pour assigner au vecteur `v` la valeur `u` à l'index `i`.\n",
    "\n",
    "Où i, n, m et k sont des valeurs numériques entières."
   ]
  },
  {
   "cell_type": "markdown",
   "metadata": {
    "id": "3yxLvRgW2z5r"
   },
   "source": [
    "**Q1**. Importez la librairie numpy."
   ]
  },
  {
   "cell_type": "code",
   "execution_count": 2,
   "metadata": {
    "id": "7Et1ovf4_WOY"
   },
   "outputs": [],
   "source": [
    "import numpy as np"
   ]
  },
  {
   "cell_type": "markdown",
   "metadata": {
    "id": "DiXa7VXi2z5s"
   },
   "source": [
    "**Q2**. Créez un vecteur de taille 10 contenant uniquement des 0, la cinquième élément doit être 1. Les valeurs du tableau doivent être des `int`."
   ]
  },
  {
   "cell_type": "code",
   "execution_count": 3,
   "metadata": {
    "id": "sXJu5sm_IeQ_"
   },
   "outputs": [
    {
     "data": {
      "text/plain": [
       "array([0., 0., 0., 0., 1., 0., 0., 0., 0., 0.])"
      ]
     },
     "execution_count": 3,
     "metadata": {},
     "output_type": "execute_result"
    }
   ],
   "source": [
    "v = np.zeros(10)\n",
    "v[4] = 1\n",
    "v"
   ]
  },
  {
   "cell_type": "markdown",
   "metadata": {
    "id": "KEpXIIDz2z5s"
   },
   "source": [
    "**Q3**. Créez deux vecteurs aléatoires de taille 5, puis multipliez les vecteur entre-eux."
   ]
  },
  {
   "cell_type": "code",
   "execution_count": 4,
   "metadata": {},
   "outputs": [
    {
     "data": {
      "text/plain": [
       "array([ 352, 1936, 1785, 2044,  148])"
      ]
     },
     "execution_count": 4,
     "metadata": {},
     "output_type": "execute_result"
    }
   ],
   "source": [
    "v1 = np.random.randint(0, 100, 5)\n",
    "v2 = np.random.randint(0, 100, 5)\n",
    "v1 * v2"
   ]
  },
  {
   "cell_type": "markdown",
   "metadata": {
    "id": "KMWTetaI2z5t"
   },
   "source": [
    "**Q4**. Créez un vecteur avec des valeurs de 10 à 49 puis inversez l'ordre."
   ]
  },
  {
   "cell_type": "code",
   "execution_count": 5,
   "metadata": {
    "id": "hjCA3eHpoyNK"
   },
   "outputs": [
    {
     "data": {
      "text/plain": [
       "array([49, 48, 47, 46, 45, 44, 43, 42, 41, 40, 39, 38, 37, 36, 35, 34, 33,\n",
       "       32, 31, 30, 29, 28, 27, 26, 25, 24, 23, 22, 21, 20, 19, 18, 17, 16,\n",
       "       15, 14, 13, 12, 11, 10])"
      ]
     },
     "execution_count": 5,
     "metadata": {},
     "output_type": "execute_result"
    }
   ],
   "source": [
    "np.arange(10, 50)[::-1]"
   ]
  },
  {
   "cell_type": "markdown",
   "metadata": {
    "id": "vHDUyUey2z5t"
   },
   "source": [
    "**Q5**. Créez un vecteur aléatoire de taille 10 et remplacez la valeur maximale par 0."
   ]
  },
  {
   "cell_type": "code",
   "execution_count": 6,
   "metadata": {
    "id": "p7xqAEJZIfVr"
   },
   "outputs": [
    {
     "data": {
      "text/plain": [
       "array([0, 8, 4, 2, 4, 5, 0, 6, 8, 1])"
      ]
     },
     "execution_count": 6,
     "metadata": {},
     "output_type": "execute_result"
    }
   ],
   "source": [
    "v = np.random.randint(0, 11, 10)\n",
    "filtre = v == v.max()\n",
    "v[filtre] = 0\n",
    "v"
   ]
  },
  {
   "cell_type": "markdown",
   "metadata": {
    "id": "QOKLIhNI2z5u"
   },
   "source": [
    "**Q6**. Créez une matrice de taille 3x3 avec des valeurs allant de 0 à 8 inclus."
   ]
  },
  {
   "cell_type": "code",
   "execution_count": 7,
   "metadata": {
    "id": "P3UFoY6wIfwg"
   },
   "outputs": [
    {
     "data": {
      "text/plain": [
       "array([[0, 1, 2],\n",
       "       [3, 4, 5],\n",
       "       [6, 7, 8]])"
      ]
     },
     "execution_count": 7,
     "metadata": {},
     "output_type": "execute_result"
    }
   ],
   "source": [
    "np.arange(0, 9).reshape(3,3)"
   ]
  },
  {
   "cell_type": "markdown",
   "metadata": {
    "id": "L9XCTjbu2z5u"
   },
   "source": [
    "**Q7**. Créez une matrice d'identité de dimension et de rang 3x3."
   ]
  },
  {
   "cell_type": "code",
   "execution_count": 8,
   "metadata": {
    "id": "wBqRu7VIIgbl"
   },
   "outputs": [
    {
     "data": {
      "text/plain": [
       "array([[1., 0., 0.],\n",
       "       [0., 1., 0.],\n",
       "       [0., 0., 1.]])"
      ]
     },
     "execution_count": 8,
     "metadata": {},
     "output_type": "execute_result"
    }
   ],
   "source": [
    "np.eye(3)"
   ]
  },
  {
   "cell_type": "markdown",
   "metadata": {
    "id": "iAecCDZR2z5v"
   },
   "source": [
    "**Q8**. Créez une matrice de dimension 30 et de rang 1 avec des valeurs entières aléatoires de 0 à 5 inclus. \n",
    "- Trouvez ensuite les indices d'éléments non nuls."
   ]
  },
  {
   "cell_type": "code",
   "execution_count": 9,
   "metadata": {
    "id": "zmzVUH8QtF32"
   },
   "outputs": [
    {
     "data": {
      "text/plain": [
       "array([3, 0, 2, 3, 0, 3, 4, 0, 2, 0, 4, 1, 0, 5, 2, 4, 0, 5, 0, 4, 3, 1,\n",
       "       0, 1, 2, 2, 5, 5, 2, 0])"
      ]
     },
     "execution_count": 9,
     "metadata": {},
     "output_type": "execute_result"
    }
   ],
   "source": [
    "v = np.random.randint(0, 6,  30)\n",
    "v"
   ]
  },
  {
   "cell_type": "code",
   "execution_count": 10,
   "metadata": {},
   "outputs": [
    {
     "data": {
      "text/plain": [
       "array([3, 2, 3, 3, 4, 2, 4, 1, 5, 2, 4, 5, 4, 3, 1, 1, 2, 2, 5, 5, 2])"
      ]
     },
     "execution_count": 10,
     "metadata": {},
     "output_type": "execute_result"
    }
   ],
   "source": [
    "v[v.nonzero()]"
   ]
  },
  {
   "cell_type": "markdown",
   "metadata": {
    "id": "WubgUwuD2z5v"
   },
   "source": [
    "**Q9**. Créez un matrice 10x10 avec des valeurs aléatoires et trouvez les valeurs minimales et maximales."
   ]
  },
  {
   "cell_type": "code",
   "execution_count": 11,
   "metadata": {},
   "outputs": [
    {
     "name": "stdout",
     "output_type": "stream",
     "text": [
      "[[93  9 57 38 25 74 47 74 72 92]\n",
      " [33 46  4 43 91 33 39 31 71 98]\n",
      " [69 48 58 29 23 86 87 72 50 77]\n",
      " [41 99 66 81 95 61  6 34 84 74]\n",
      " [85 40  8 15 73 18  8 48 41 97]\n",
      " [32 88 91  6 30 18 15 75 99  2]\n",
      " [41 11  6 70 73 30 76 51 10 63]\n",
      " [99 62 50  5  8 79 83 24 65 44]\n",
      " [90 19 30 22 33 19  9  9  0 19]\n",
      " [36  0 54 61 71 11 42 19 41 56]]\n",
      "max=99\n"
     ]
    }
   ],
   "source": [
    "v = np.random.randint(100, size=(10,10))\n",
    "print(v)\n",
    "max = v.max()\n",
    "print('max=' + str(max))"
   ]
  },
  {
   "cell_type": "code",
   "execution_count": 12,
   "metadata": {},
   "outputs": [
    {
     "name": "stdout",
     "output_type": "stream",
     "text": [
      "min=0\n"
     ]
    }
   ],
   "source": [
    "min = v.min()\n",
    "print('min=' + str(min))"
   ]
  },
  {
   "cell_type": "markdown",
   "metadata": {
    "id": "gLPOP5ZD6Z8s"
   },
   "source": [
    "**Q10**. Pour chaque ligne d'une matrice aléatoire de taille 5x10, soustrayez la moyenne de chaque ligne de cette matrice."
   ]
  },
  {
   "cell_type": "code",
   "execution_count": 13,
   "metadata": {
    "id": "7BfesSURIhKF"
   },
   "outputs": [
    {
     "name": "stdout",
     "output_type": "stream",
     "text": [
      "[[ 0 94 67 69 28 57 39 30 18 21]\n",
      " [84 80 93 74 78 18 41 35  6 58]\n",
      " [68 68 89 57 53 19 23 59 39 79]\n",
      " [54 20 87 40 33 99 56 75 27 23]\n",
      " [23  5  2 47 39 60 76 54 64 31]]\n"
     ]
    },
    {
     "data": {
      "text/plain": [
       "array([[-42,  51,  24,  26, -14,  14,  -3, -12, -24, -21],\n",
       "       [ 27,  23,  36,  17,  21, -38, -15, -21, -50,   1],\n",
       "       [ 12,  12,  33,   1,  -2, -36, -32,   3, -16,  23],\n",
       "       [  2, -31,  35, -11, -18,  47,   4,  23, -24, -28],\n",
       "       [-17, -35, -38,   6,  -1,  19,  35,  13,  23,  -9]])"
      ]
     },
     "execution_count": 13,
     "metadata": {},
     "output_type": "execute_result"
    }
   ],
   "source": [
    "v = np.random.randint(0, 100, [5,10])\n",
    "print(v)\n",
    "for i in range(len(v)) :\n",
    "    v[i] = v[i] - v[i].mean()\n",
    "v"
   ]
  },
  {
   "cell_type": "markdown",
   "metadata": {
    "id": "S33xE0zf2z5w"
   },
   "source": [
    "**Q11 BONUS**. Ecrivez une fonction qui trouve la valeur la plus fréquente dans un tableau."
   ]
  },
  {
   "cell_type": "code",
   "execution_count": 14,
   "metadata": {
    "id": "dAOmKK-I2z5x"
   },
   "outputs": [
    {
     "name": "stdout",
     "output_type": "stream",
     "text": [
      "[76 37 18 86 60 26  7 57 83 17  2 29 57 31  0 63 48  3 62 68 81 15 93 66\n",
      "  0 52 77 89 90 71]\n"
     ]
    },
    {
     "data": {
      "text/plain": [
       "0"
      ]
     },
     "execution_count": 14,
     "metadata": {},
     "output_type": "execute_result"
    }
   ],
   "source": [
    "tab = np.random.randint(0,100, 30)\n",
    "print(tab)\n",
    "def find_most_elements(v):\n",
    "    return np.bincount(v.flatten()).argmax()\n",
    "find_most_elements(tab)"
   ]
  },
  {
   "cell_type": "markdown",
   "metadata": {
    "id": "4hFRNLQv9_Fh"
   },
   "source": [
    "**Q12BONUS**. Créez une matrice 10x10 avec la valeur 1 sur les bordures et 0 à l'intérieur."
   ]
  },
  {
   "cell_type": "code",
   "execution_count": 15,
   "metadata": {
    "id": "jhUR9qTd9-WN"
   },
   "outputs": [
    {
     "data": {
      "text/plain": [
       "array([[1., 1., 1., 1., 1., 1., 1., 1., 1., 1.],\n",
       "       [1., 0., 0., 0., 0., 0., 0., 0., 0., 1.],\n",
       "       [1., 0., 0., 0., 0., 0., 0., 0., 0., 1.],\n",
       "       [1., 0., 0., 0., 0., 0., 0., 0., 0., 1.],\n",
       "       [1., 0., 0., 0., 0., 0., 0., 0., 0., 1.],\n",
       "       [1., 0., 0., 0., 0., 0., 0., 0., 0., 1.],\n",
       "       [1., 0., 0., 0., 0., 0., 0., 0., 0., 1.],\n",
       "       [1., 0., 0., 0., 0., 0., 0., 0., 0., 1.],\n",
       "       [1., 0., 0., 0., 0., 0., 0., 0., 0., 1.],\n",
       "       [1., 1., 1., 1., 1., 1., 1., 1., 1., 1.]])"
      ]
     },
     "execution_count": 15,
     "metadata": {},
     "output_type": "execute_result"
    }
   ],
   "source": [
    "tab = np.ones((10,10))\n",
    "tab[1:-1, 1:-1] = 0\n",
    "tab"
   ]
  },
  {
   "cell_type": "markdown",
   "metadata": {
    "id": "B-kSqzhy-HQt"
   },
   "source": [
    "**Q13BONUS**. Créez une matrice m3 de taille 8x8 puis remplissez-la avec un motif en damier (0,1)."
   ]
  },
  {
   "cell_type": "code",
   "execution_count": null,
   "metadata": {
    "id": "PKCY6Fm6-Msr"
   },
   "outputs": [],
   "source": []
  },
  {
   "cell_type": "markdown",
   "metadata": {
    "id": "8CwK5I3g-Nmm"
   },
   "source": [
    "**Q14BONUS**. Créez un vecteur v5 rempli de 30 valeurs entières aléatoires entre 1 et 10. Transformez en négatif les éléments qui sont entre 3 et 8."
   ]
  },
  {
   "cell_type": "code",
   "execution_count": null,
   "metadata": {
    "id": "c-oFe0_3_Icb"
   },
   "outputs": [],
   "source": []
  }
 ],
 "metadata": {
  "colab": {
   "provenance": []
  },
  "kernelspec": {
   "display_name": "Python 3",
   "language": "python",
   "name": "python3"
  },
  "language_info": {
   "codemirror_mode": {
    "name": "ipython",
    "version": 3
   },
   "file_extension": ".py",
   "mimetype": "text/x-python",
   "name": "python",
   "nbconvert_exporter": "python",
   "pygments_lexer": "ipython3",
   "version": "3.10.9"
  },
  "vscode": {
   "interpreter": {
    "hash": "8f9328efe3468e6c370cdfed98702d3986faf748314d5bcec59da615d65baa7a"
   }
  }
 },
 "nbformat": 4,
 "nbformat_minor": 1
}
