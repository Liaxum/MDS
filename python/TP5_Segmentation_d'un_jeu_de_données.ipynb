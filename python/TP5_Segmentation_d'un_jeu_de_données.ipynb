{
  "cells": [
    {
      "cell_type": "markdown",
      "id": "7dc2d8d4",
      "metadata": {
        "id": "7dc2d8d4"
      },
      "source": [
        "# Parite 1 - Data préparation\n",
        "\n",
        "---\n",
        "\n",
        "<img src='https://www.robot-magazine.fr/wp-content/uploads/2021/06/deep-learning-vs-machine-learning.jpg'>\n",
        "Dans cette première partie notre objectif est de préparer notre jeu de données en vu de son utilisation par nos algorythmes de segmentation.\n",
        "\n",
        "\n",
        "**Q1**. Importez les bibliothèques numpy et pandas."
      ]
    },
    {
      "cell_type": "code",
      "execution_count": 1,
      "id": "13d97790",
      "metadata": {
        "id": "13d97790"
      },
      "outputs": [],
      "source": [
        "# Importez la bibliothèque numpy avec l'alias np\n",
        "import numpy as np\n",
        "\n",
        "# Importez la bibliothèque pandas avec l'alias pd\n",
        "import pandas as pd"
      ]
    },
    {
      "cell_type": "markdown",
      "id": "9642a057",
      "metadata": {
        "id": "9642a057"
      },
      "source": [
        "---\n",
        "**Q2**. Importez le jeu de données `data_clean.csv` dans une variable df.\n",
        "\n",
        "Vous pouvez télécharger le fichier [ici](https://drive.google.com/file/d/17r9Fr3FPr-iHzTVK5tYz3FpHZrt8A_gq/view?usp=sharing), Déplacez-le enssuite dans le dossier `sample_data`."
      ]
    },
    {
      "cell_type": "code",
      "execution_count": 2,
      "id": "75781982",
      "metadata": {
        "id": "75781982"
      },
      "outputs": [
        {
          "data": {
            "text/html": [
              "<div>\n",
              "<style scoped>\n",
              "    .dataframe tbody tr th:only-of-type {\n",
              "        vertical-align: middle;\n",
              "    }\n",
              "\n",
              "    .dataframe tbody tr th {\n",
              "        vertical-align: top;\n",
              "    }\n",
              "\n",
              "    .dataframe thead th {\n",
              "        text-align: right;\n",
              "    }\n",
              "</style>\n",
              "<table border=\"1\" class=\"dataframe\">\n",
              "  <thead>\n",
              "    <tr style=\"text-align: right;\">\n",
              "      <th></th>\n",
              "      <th>Gender</th>\n",
              "      <th>Ever_Married</th>\n",
              "      <th>Age</th>\n",
              "      <th>Graduated</th>\n",
              "      <th>Profession</th>\n",
              "      <th>Work_Experience</th>\n",
              "      <th>Spending_Score</th>\n",
              "      <th>Family_Size</th>\n",
              "      <th>Segmentation</th>\n",
              "    </tr>\n",
              "  </thead>\n",
              "  <tbody>\n",
              "    <tr>\n",
              "      <th>0</th>\n",
              "      <td>0</td>\n",
              "      <td>1</td>\n",
              "      <td>22</td>\n",
              "      <td>1</td>\n",
              "      <td>1</td>\n",
              "      <td>1.0</td>\n",
              "      <td>0</td>\n",
              "      <td>4.0</td>\n",
              "      <td>0</td>\n",
              "    </tr>\n",
              "    <tr>\n",
              "      <th>1</th>\n",
              "      <td>1</td>\n",
              "      <td>0</td>\n",
              "      <td>67</td>\n",
              "      <td>0</td>\n",
              "      <td>4</td>\n",
              "      <td>1.0</td>\n",
              "      <td>0</td>\n",
              "      <td>1.0</td>\n",
              "      <td>3</td>\n",
              "    </tr>\n",
              "    <tr>\n",
              "      <th>2</th>\n",
              "      <td>0</td>\n",
              "      <td>0</td>\n",
              "      <td>67</td>\n",
              "      <td>0</td>\n",
              "      <td>6</td>\n",
              "      <td>0.0</td>\n",
              "      <td>2</td>\n",
              "      <td>2.0</td>\n",
              "      <td>3</td>\n",
              "    </tr>\n",
              "    <tr>\n",
              "      <th>3</th>\n",
              "      <td>0</td>\n",
              "      <td>0</td>\n",
              "      <td>56</td>\n",
              "      <td>1</td>\n",
              "      <td>0</td>\n",
              "      <td>0.0</td>\n",
              "      <td>1</td>\n",
              "      <td>2.0</td>\n",
              "      <td>1</td>\n",
              "    </tr>\n",
              "    <tr>\n",
              "      <th>4</th>\n",
              "      <td>0</td>\n",
              "      <td>1</td>\n",
              "      <td>32</td>\n",
              "      <td>0</td>\n",
              "      <td>1</td>\n",
              "      <td>1.0</td>\n",
              "      <td>0</td>\n",
              "      <td>3.0</td>\n",
              "      <td>1</td>\n",
              "    </tr>\n",
              "    <tr>\n",
              "      <th>...</th>\n",
              "      <td>...</td>\n",
              "      <td>...</td>\n",
              "      <td>...</td>\n",
              "      <td>...</td>\n",
              "      <td>...</td>\n",
              "      <td>...</td>\n",
              "      <td>...</td>\n",
              "      <td>...</td>\n",
              "      <td>...</td>\n",
              "    </tr>\n",
              "    <tr>\n",
              "      <th>6660</th>\n",
              "      <td>0</td>\n",
              "      <td>0</td>\n",
              "      <td>41</td>\n",
              "      <td>0</td>\n",
              "      <td>0</td>\n",
              "      <td>0.0</td>\n",
              "      <td>2</td>\n",
              "      <td>5.0</td>\n",
              "      <td>3</td>\n",
              "    </tr>\n",
              "    <tr>\n",
              "      <th>6661</th>\n",
              "      <td>0</td>\n",
              "      <td>1</td>\n",
              "      <td>35</td>\n",
              "      <td>1</td>\n",
              "      <td>5</td>\n",
              "      <td>3.0</td>\n",
              "      <td>0</td>\n",
              "      <td>4.0</td>\n",
              "      <td>0</td>\n",
              "    </tr>\n",
              "    <tr>\n",
              "      <th>6662</th>\n",
              "      <td>1</td>\n",
              "      <td>1</td>\n",
              "      <td>33</td>\n",
              "      <td>0</td>\n",
              "      <td>1</td>\n",
              "      <td>1.0</td>\n",
              "      <td>0</td>\n",
              "      <td>1.0</td>\n",
              "      <td>0</td>\n",
              "    </tr>\n",
              "    <tr>\n",
              "      <th>6663</th>\n",
              "      <td>1</td>\n",
              "      <td>1</td>\n",
              "      <td>27</td>\n",
              "      <td>0</td>\n",
              "      <td>1</td>\n",
              "      <td>1.0</td>\n",
              "      <td>0</td>\n",
              "      <td>4.0</td>\n",
              "      <td>3</td>\n",
              "    </tr>\n",
              "    <tr>\n",
              "      <th>6664</th>\n",
              "      <td>0</td>\n",
              "      <td>0</td>\n",
              "      <td>37</td>\n",
              "      <td>0</td>\n",
              "      <td>5</td>\n",
              "      <td>0.0</td>\n",
              "      <td>1</td>\n",
              "      <td>3.0</td>\n",
              "      <td>3</td>\n",
              "    </tr>\n",
              "  </tbody>\n",
              "</table>\n",
              "<p>6665 rows × 9 columns</p>\n",
              "</div>"
            ],
            "text/plain": [
              "      Gender  Ever_Married  Age  Graduated  Profession  Work_Experience  \\\n",
              "0          0             1   22          1           1              1.0   \n",
              "1          1             0   67          0           4              1.0   \n",
              "2          0             0   67          0           6              0.0   \n",
              "3          0             0   56          1           0              0.0   \n",
              "4          0             1   32          0           1              1.0   \n",
              "...      ...           ...  ...        ...         ...              ...   \n",
              "6660       0             0   41          0           0              0.0   \n",
              "6661       0             1   35          1           5              3.0   \n",
              "6662       1             1   33          0           1              1.0   \n",
              "6663       1             1   27          0           1              1.0   \n",
              "6664       0             0   37          0           5              0.0   \n",
              "\n",
              "      Spending_Score  Family_Size  Segmentation  \n",
              "0                  0          4.0             0  \n",
              "1                  0          1.0             3  \n",
              "2                  2          2.0             3  \n",
              "3                  1          2.0             1  \n",
              "4                  0          3.0             1  \n",
              "...              ...          ...           ...  \n",
              "6660               2          5.0             3  \n",
              "6661               0          4.0             0  \n",
              "6662               0          1.0             0  \n",
              "6663               0          4.0             3  \n",
              "6664               1          3.0             3  \n",
              "\n",
              "[6665 rows x 9 columns]"
            ]
          },
          "execution_count": 2,
          "metadata": {},
          "output_type": "execute_result"
        }
      ],
      "source": [
        "# Importez le jeu de donnés 'data_clean.csv' dans la variable df\n",
        "df = pd.read_csv('./data_clean.csv')\n",
        "df"
      ]
    },
    {
      "cell_type": "markdown",
      "id": "852bf1dc",
      "metadata": {
        "id": "852bf1dc"
      },
      "source": [
        "---\n",
        "**Q3**. Créez une variable X contenant l'ensemble des 8 colonnes : \n",
        "- `'Gender'`\n",
        "- `'Ever_Married'`\n",
        "- `'Age'`\n",
        "- `'Graduated'`\n",
        "- `'Profession'`\n",
        "- `'Work_Experience'`\n",
        "- `'Spending_Score'`\n",
        "- `'Family_Size'`\n",
        "\n",
        "La méthode de sélection de colonnes est la suivante : `df[['colonne 1', 'colonne 2', 'colonne3', ..., 'colonne n']]`"
      ]
    },
    {
      "cell_type": "code",
      "execution_count": 3,
      "id": "2086b3d1",
      "metadata": {
        "id": "2086b3d1"
      },
      "outputs": [
        {
          "data": {
            "text/html": [
              "<div>\n",
              "<style scoped>\n",
              "    .dataframe tbody tr th:only-of-type {\n",
              "        vertical-align: middle;\n",
              "    }\n",
              "\n",
              "    .dataframe tbody tr th {\n",
              "        vertical-align: top;\n",
              "    }\n",
              "\n",
              "    .dataframe thead th {\n",
              "        text-align: right;\n",
              "    }\n",
              "</style>\n",
              "<table border=\"1\" class=\"dataframe\">\n",
              "  <thead>\n",
              "    <tr style=\"text-align: right;\">\n",
              "      <th></th>\n",
              "      <th>Gender</th>\n",
              "      <th>Ever_Married</th>\n",
              "      <th>Age</th>\n",
              "      <th>Graduated</th>\n",
              "      <th>Profession</th>\n",
              "      <th>Work_Experience</th>\n",
              "      <th>Spending_Score</th>\n",
              "      <th>Family_Size</th>\n",
              "    </tr>\n",
              "  </thead>\n",
              "  <tbody>\n",
              "    <tr>\n",
              "      <th>0</th>\n",
              "      <td>0</td>\n",
              "      <td>1</td>\n",
              "      <td>22</td>\n",
              "      <td>1</td>\n",
              "      <td>1</td>\n",
              "      <td>1.0</td>\n",
              "      <td>0</td>\n",
              "      <td>4.0</td>\n",
              "    </tr>\n",
              "    <tr>\n",
              "      <th>1</th>\n",
              "      <td>1</td>\n",
              "      <td>0</td>\n",
              "      <td>67</td>\n",
              "      <td>0</td>\n",
              "      <td>4</td>\n",
              "      <td>1.0</td>\n",
              "      <td>0</td>\n",
              "      <td>1.0</td>\n",
              "    </tr>\n",
              "    <tr>\n",
              "      <th>2</th>\n",
              "      <td>0</td>\n",
              "      <td>0</td>\n",
              "      <td>67</td>\n",
              "      <td>0</td>\n",
              "      <td>6</td>\n",
              "      <td>0.0</td>\n",
              "      <td>2</td>\n",
              "      <td>2.0</td>\n",
              "    </tr>\n",
              "    <tr>\n",
              "      <th>3</th>\n",
              "      <td>0</td>\n",
              "      <td>0</td>\n",
              "      <td>56</td>\n",
              "      <td>1</td>\n",
              "      <td>0</td>\n",
              "      <td>0.0</td>\n",
              "      <td>1</td>\n",
              "      <td>2.0</td>\n",
              "    </tr>\n",
              "    <tr>\n",
              "      <th>4</th>\n",
              "      <td>0</td>\n",
              "      <td>1</td>\n",
              "      <td>32</td>\n",
              "      <td>0</td>\n",
              "      <td>1</td>\n",
              "      <td>1.0</td>\n",
              "      <td>0</td>\n",
              "      <td>3.0</td>\n",
              "    </tr>\n",
              "    <tr>\n",
              "      <th>...</th>\n",
              "      <td>...</td>\n",
              "      <td>...</td>\n",
              "      <td>...</td>\n",
              "      <td>...</td>\n",
              "      <td>...</td>\n",
              "      <td>...</td>\n",
              "      <td>...</td>\n",
              "      <td>...</td>\n",
              "    </tr>\n",
              "    <tr>\n",
              "      <th>6660</th>\n",
              "      <td>0</td>\n",
              "      <td>0</td>\n",
              "      <td>41</td>\n",
              "      <td>0</td>\n",
              "      <td>0</td>\n",
              "      <td>0.0</td>\n",
              "      <td>2</td>\n",
              "      <td>5.0</td>\n",
              "    </tr>\n",
              "    <tr>\n",
              "      <th>6661</th>\n",
              "      <td>0</td>\n",
              "      <td>1</td>\n",
              "      <td>35</td>\n",
              "      <td>1</td>\n",
              "      <td>5</td>\n",
              "      <td>3.0</td>\n",
              "      <td>0</td>\n",
              "      <td>4.0</td>\n",
              "    </tr>\n",
              "    <tr>\n",
              "      <th>6662</th>\n",
              "      <td>1</td>\n",
              "      <td>1</td>\n",
              "      <td>33</td>\n",
              "      <td>0</td>\n",
              "      <td>1</td>\n",
              "      <td>1.0</td>\n",
              "      <td>0</td>\n",
              "      <td>1.0</td>\n",
              "    </tr>\n",
              "    <tr>\n",
              "      <th>6663</th>\n",
              "      <td>1</td>\n",
              "      <td>1</td>\n",
              "      <td>27</td>\n",
              "      <td>0</td>\n",
              "      <td>1</td>\n",
              "      <td>1.0</td>\n",
              "      <td>0</td>\n",
              "      <td>4.0</td>\n",
              "    </tr>\n",
              "    <tr>\n",
              "      <th>6664</th>\n",
              "      <td>0</td>\n",
              "      <td>0</td>\n",
              "      <td>37</td>\n",
              "      <td>0</td>\n",
              "      <td>5</td>\n",
              "      <td>0.0</td>\n",
              "      <td>1</td>\n",
              "      <td>3.0</td>\n",
              "    </tr>\n",
              "  </tbody>\n",
              "</table>\n",
              "<p>6665 rows × 8 columns</p>\n",
              "</div>"
            ],
            "text/plain": [
              "      Gender  Ever_Married  Age  Graduated  Profession  Work_Experience  \\\n",
              "0          0             1   22          1           1              1.0   \n",
              "1          1             0   67          0           4              1.0   \n",
              "2          0             0   67          0           6              0.0   \n",
              "3          0             0   56          1           0              0.0   \n",
              "4          0             1   32          0           1              1.0   \n",
              "...      ...           ...  ...        ...         ...              ...   \n",
              "6660       0             0   41          0           0              0.0   \n",
              "6661       0             1   35          1           5              3.0   \n",
              "6662       1             1   33          0           1              1.0   \n",
              "6663       1             1   27          0           1              1.0   \n",
              "6664       0             0   37          0           5              0.0   \n",
              "\n",
              "      Spending_Score  Family_Size  \n",
              "0                  0          4.0  \n",
              "1                  0          1.0  \n",
              "2                  2          2.0  \n",
              "3                  1          2.0  \n",
              "4                  0          3.0  \n",
              "...              ...          ...  \n",
              "6660               2          5.0  \n",
              "6661               0          4.0  \n",
              "6662               0          1.0  \n",
              "6663               0          4.0  \n",
              "6664               1          3.0  \n",
              "\n",
              "[6665 rows x 8 columns]"
            ]
          },
          "execution_count": 3,
          "metadata": {},
          "output_type": "execute_result"
        }
      ],
      "source": [
        "# Créez la variable X contenant les colonnes : 'Gender', 'Ever_Married', 'Age', 'Graduated', 'Profession',\n",
        "#  'Work_Experience', 'Spending_Score', 'Family_Size' du jeu de données df\n",
        "X = df[['Gender', 'Ever_Married', 'Age', 'Graduated', 'Profession', 'Work_Experience', 'Spending_Score', 'Family_Size']]\n",
        "\n",
        "\n",
        "X"
      ]
    },
    {
      "cell_type": "markdown",
      "id": "63f5103c",
      "metadata": {
        "id": "63f5103c"
      },
      "source": [
        "---\n",
        "**Q4** Créez une variable y conetnant uniquement la colonne `'Segmentation'`."
      ]
    },
    {
      "cell_type": "code",
      "execution_count": 4,
      "id": "431cc095",
      "metadata": {
        "id": "431cc095"
      },
      "outputs": [
        {
          "data": {
            "text/plain": [
              "0       0\n",
              "1       3\n",
              "2       3\n",
              "3       1\n",
              "4       1\n",
              "       ..\n",
              "6660    3\n",
              "6661    0\n",
              "6662    0\n",
              "6663    3\n",
              "6664    3\n",
              "Name: Segmentation, Length: 6665, dtype: int64"
            ]
          },
          "execution_count": 4,
          "metadata": {},
          "output_type": "execute_result"
        }
      ],
      "source": [
        "# Créez la variable y contenant la colonne 'Segmentation' du jeu de données df\n",
        "y = df.Segmentation\n",
        "y"
      ]
    },
    {
      "cell_type": "markdown",
      "id": "e04dd949",
      "metadata": {
        "id": "e04dd949"
      },
      "source": [
        "---\n",
        "**Q5** Installez la bibliothèque sklearn avec la commande pip dans la cellule suivante."
      ]
    },
    {
      "cell_type": "code",
      "execution_count": 6,
      "id": "905c4602",
      "metadata": {
        "id": "905c4602"
      },
      "outputs": [],
      "source": [
        "# Installez la bibliothèque sklearn avec la commande pip"
      ]
    },
    {
      "cell_type": "markdown",
      "id": "0d852ae6",
      "metadata": {
        "id": "0d852ae6"
      },
      "source": [
        "**Q6**. Exécutez la cellule suivante.\n",
        "\n",
        "Nous séparons ici notre jeu de données en jeu d'entrainement/test.\n",
        "\n",
        "Le jeu d'entrainement servira à l'entraînement des algorithmes, alors que le jeu de test servira à évaluer l'alogoritme."
      ]
    },
    {
      "cell_type": "code",
      "execution_count": 5,
      "id": "94afd8cb",
      "metadata": {
        "id": "94afd8cb"
      },
      "outputs": [],
      "source": [
        "# Import du module train_test_split de la bibliothèque sklearn :\n",
        "from sklearn.model_selection import train_test_split\n",
        "\n",
        "# Séparation du jeu de données jeu d'entrainement (train) et enjeu d'évaluation (test) :\n",
        "X_train, X_test, y_train, y_test  = train_test_split(X, y, stratify=y)"
      ]
    },
    {
      "cell_type": "markdown",
      "id": "b82ae973",
      "metadata": {
        "id": "b82ae973"
      },
      "source": [
        "---\n",
        "\n",
        "\n",
        "\n",
        "\n",
        "---\n",
        "\n",
        "\n",
        "\n",
        "# Partie 2 - Entrainement des algorithmes (Machine-Learning)\n",
        "\n",
        "<img src='https://img-0.journaldunet.com/4WyQ4HmoAiyWiTcd7YiEVSD9Sg4=/1500x/smart/5071887dfe574873b29998e93e59e237/ccmcms-jdn/32503861.jpg'>\n",
        "\n",
        "## 2.1 - Algorithmes des K-voisins les plus proches (K-Nearest Neighbors ==> KNN)\n",
        "\n",
        "<img src='https://upload.wikimedia.org/wikipedia/commons/thumb/e/e7/KnnClassification.svg/220px-KnnClassification.svg.png'>\n",
        "\n",
        "\n",
        "---\n",
        "**Q7** Exécutez la cellule suivante afin d'importer l'algorithme KNN inclus dans la bibliothèque de Sklearn."
      ]
    },
    {
      "cell_type": "code",
      "execution_count": 7,
      "id": "503f1e8e",
      "metadata": {
        "id": "503f1e8e"
      },
      "outputs": [],
      "source": [
        "# Import du modèle KNN de la bibliothèque sklearn\n",
        "from sklearn.neighbors import KNeighborsClassifier\n",
        "\n",
        "# Définission du modèle KNN dans la variable knn\n",
        "knn = KNeighborsClassifier(n_neighbors=3) # On définit ici k=3 où k est le nombre de voisins."
      ]
    },
    {
      "cell_type": "markdown",
      "id": "190ee173",
      "metadata": {
        "id": "190ee173"
      },
      "source": [
        "---\n",
        "**Q8** Compléter ici le code afin d'entraîner votre modèle KNN avec votre jeu de données d'entrainement \n",
        "\n",
        "La nomenclature est la suivante : `model.fit(X_train, y_train)` où, dans notre cas, modèle est notre modèle `knn`."
      ]
    },
    {
      "cell_type": "code",
      "execution_count": 8,
      "id": "8ec29ac0",
      "metadata": {
        "id": "8ec29ac0"
      },
      "outputs": [
        {
          "data": {
            "text/html": [
              "<style>#sk-container-id-1 {color: black;background-color: white;}#sk-container-id-1 pre{padding: 0;}#sk-container-id-1 div.sk-toggleable {background-color: white;}#sk-container-id-1 label.sk-toggleable__label {cursor: pointer;display: block;width: 100%;margin-bottom: 0;padding: 0.3em;box-sizing: border-box;text-align: center;}#sk-container-id-1 label.sk-toggleable__label-arrow:before {content: \"▸\";float: left;margin-right: 0.25em;color: #696969;}#sk-container-id-1 label.sk-toggleable__label-arrow:hover:before {color: black;}#sk-container-id-1 div.sk-estimator:hover label.sk-toggleable__label-arrow:before {color: black;}#sk-container-id-1 div.sk-toggleable__content {max-height: 0;max-width: 0;overflow: hidden;text-align: left;background-color: #f0f8ff;}#sk-container-id-1 div.sk-toggleable__content pre {margin: 0.2em;color: black;border-radius: 0.25em;background-color: #f0f8ff;}#sk-container-id-1 input.sk-toggleable__control:checked~div.sk-toggleable__content {max-height: 200px;max-width: 100%;overflow: auto;}#sk-container-id-1 input.sk-toggleable__control:checked~label.sk-toggleable__label-arrow:before {content: \"▾\";}#sk-container-id-1 div.sk-estimator input.sk-toggleable__control:checked~label.sk-toggleable__label {background-color: #d4ebff;}#sk-container-id-1 div.sk-label input.sk-toggleable__control:checked~label.sk-toggleable__label {background-color: #d4ebff;}#sk-container-id-1 input.sk-hidden--visually {border: 0;clip: rect(1px 1px 1px 1px);clip: rect(1px, 1px, 1px, 1px);height: 1px;margin: -1px;overflow: hidden;padding: 0;position: absolute;width: 1px;}#sk-container-id-1 div.sk-estimator {font-family: monospace;background-color: #f0f8ff;border: 1px dotted black;border-radius: 0.25em;box-sizing: border-box;margin-bottom: 0.5em;}#sk-container-id-1 div.sk-estimator:hover {background-color: #d4ebff;}#sk-container-id-1 div.sk-parallel-item::after {content: \"\";width: 100%;border-bottom: 1px solid gray;flex-grow: 1;}#sk-container-id-1 div.sk-label:hover label.sk-toggleable__label {background-color: #d4ebff;}#sk-container-id-1 div.sk-serial::before {content: \"\";position: absolute;border-left: 1px solid gray;box-sizing: border-box;top: 0;bottom: 0;left: 50%;z-index: 0;}#sk-container-id-1 div.sk-serial {display: flex;flex-direction: column;align-items: center;background-color: white;padding-right: 0.2em;padding-left: 0.2em;position: relative;}#sk-container-id-1 div.sk-item {position: relative;z-index: 1;}#sk-container-id-1 div.sk-parallel {display: flex;align-items: stretch;justify-content: center;background-color: white;position: relative;}#sk-container-id-1 div.sk-item::before, #sk-container-id-1 div.sk-parallel-item::before {content: \"\";position: absolute;border-left: 1px solid gray;box-sizing: border-box;top: 0;bottom: 0;left: 50%;z-index: -1;}#sk-container-id-1 div.sk-parallel-item {display: flex;flex-direction: column;z-index: 1;position: relative;background-color: white;}#sk-container-id-1 div.sk-parallel-item:first-child::after {align-self: flex-end;width: 50%;}#sk-container-id-1 div.sk-parallel-item:last-child::after {align-self: flex-start;width: 50%;}#sk-container-id-1 div.sk-parallel-item:only-child::after {width: 0;}#sk-container-id-1 div.sk-dashed-wrapped {border: 1px dashed gray;margin: 0 0.4em 0.5em 0.4em;box-sizing: border-box;padding-bottom: 0.4em;background-color: white;}#sk-container-id-1 div.sk-label label {font-family: monospace;font-weight: bold;display: inline-block;line-height: 1.2em;}#sk-container-id-1 div.sk-label-container {text-align: center;}#sk-container-id-1 div.sk-container {/* jupyter's `normalize.less` sets `[hidden] { display: none; }` but bootstrap.min.css set `[hidden] { display: none !important; }` so we also need the `!important` here to be able to override the default hidden behavior on the sphinx rendered scikit-learn.org. See: https://github.com/scikit-learn/scikit-learn/issues/21755 */display: inline-block !important;position: relative;}#sk-container-id-1 div.sk-text-repr-fallback {display: none;}</style><div id=\"sk-container-id-1\" class=\"sk-top-container\"><div class=\"sk-text-repr-fallback\"><pre>KNeighborsClassifier(n_neighbors=3)</pre><b>In a Jupyter environment, please rerun this cell to show the HTML representation or trust the notebook. <br />On GitHub, the HTML representation is unable to render, please try loading this page with nbviewer.org.</b></div><div class=\"sk-container\" hidden><div class=\"sk-item\"><div class=\"sk-estimator sk-toggleable\"><input class=\"sk-toggleable__control sk-hidden--visually\" id=\"sk-estimator-id-1\" type=\"checkbox\" checked><label for=\"sk-estimator-id-1\" class=\"sk-toggleable__label sk-toggleable__label-arrow\">KNeighborsClassifier</label><div class=\"sk-toggleable__content\"><pre>KNeighborsClassifier(n_neighbors=3)</pre></div></div></div></div></div>"
            ],
            "text/plain": [
              "KNeighborsClassifier(n_neighbors=3)"
            ]
          },
          "execution_count": 8,
          "metadata": {},
          "output_type": "execute_result"
        }
      ],
      "source": [
        "# Entraînement du modèle knn\n",
        "knn.fit(X_train ,y_train)"
      ]
    },
    {
      "cell_type": "markdown",
      "id": "a452ebf2",
      "metadata": {
        "id": "a452ebf2"
      },
      "source": [
        "---\n",
        "**Q9** Faîtes une prédiction à partir du modèle `knn` à partir de nos données test X et assigner cette prédiction dans une varibla `y_pred`.\n",
        "\n",
        "La nomenclature est la suite : `y_pred = model.predict(X_test)` où `model` dans notre cas présent doit être remplacé par notre modèle `knn`."
      ]
    },
    {
      "cell_type": "code",
      "execution_count": 9,
      "id": "a020025e",
      "metadata": {
        "id": "a020025e"
      },
      "outputs": [],
      "source": [
        "# Prédiction du modèle knn à partir des données test\n",
        "y_pred = knn.predict(X_test)"
      ]
    },
    {
      "cell_type": "markdown",
      "id": "344901d4",
      "metadata": {
        "id": "344901d4"
      },
      "source": [
        "---\n",
        "**Q10** Evaluer la performance du modèle `knn` en exécutant la cellule suivante."
      ]
    },
    {
      "cell_type": "code",
      "execution_count": 10,
      "id": "b62e0c72",
      "metadata": {
        "id": "b62e0c72"
      },
      "outputs": [],
      "source": [
        "# Import du module permettant d'évaluer notre modèle\n",
        "from sklearn.metrics import confusion_matrix\n",
        "\n",
        "# Fonction permettant d'évaluer le modèle en fonction des 4 segments clients\n",
        "def evaluation(y_pred, y_test):\n",
        "    matrix = confusion_matrix(y_test.values, y_pred.astype(int))\n",
        "    score = matrix.diagonal()/matrix.sum(axis=1)\n",
        "    \n",
        "    colonne = ['Accuracy Segment 1', 'Accuracy Segment 2', 'Accuracy Segment 3', 'Accuracy Segment 4']\n",
        "    \n",
        "    return pd.DataFrame(score.T, colonne, columns=['Score par Segmentation'])"
      ]
    },
    {
      "cell_type": "markdown",
      "id": "804463d1",
      "metadata": {
        "id": "804463d1"
      },
      "source": [
        "---\n",
        "**Q11** Complétez le code suivant avec les variables `y_pred` et `y_test` afin d'observer la performance du modèle `knn` en fonction des segment client. Notez vos observations."
      ]
    },
    {
      "cell_type": "code",
      "execution_count": 11,
      "id": "d24f03fa",
      "metadata": {
        "id": "d24f03fa"
      },
      "outputs": [
        {
          "data": {
            "text/html": [
              "<div>\n",
              "<style scoped>\n",
              "    .dataframe tbody tr th:only-of-type {\n",
              "        vertical-align: middle;\n",
              "    }\n",
              "\n",
              "    .dataframe tbody tr th {\n",
              "        vertical-align: top;\n",
              "    }\n",
              "\n",
              "    .dataframe thead th {\n",
              "        text-align: right;\n",
              "    }\n",
              "</style>\n",
              "<table border=\"1\" class=\"dataframe\">\n",
              "  <thead>\n",
              "    <tr style=\"text-align: right;\">\n",
              "      <th></th>\n",
              "      <th>Score par Segmentation</th>\n",
              "    </tr>\n",
              "  </thead>\n",
              "  <tbody>\n",
              "    <tr>\n",
              "      <th>Accuracy Segment 1</th>\n",
              "      <td>0.706818</td>\n",
              "    </tr>\n",
              "    <tr>\n",
              "      <th>Accuracy Segment 2</th>\n",
              "      <td>0.565116</td>\n",
              "    </tr>\n",
              "    <tr>\n",
              "      <th>Accuracy Segment 3</th>\n",
              "      <td>0.274752</td>\n",
              "    </tr>\n",
              "    <tr>\n",
              "      <th>Accuracy Segment 4</th>\n",
              "      <td>0.236641</td>\n",
              "    </tr>\n",
              "  </tbody>\n",
              "</table>\n",
              "</div>"
            ],
            "text/plain": [
              "                    Score par Segmentation\n",
              "Accuracy Segment 1                0.706818\n",
              "Accuracy Segment 2                0.565116\n",
              "Accuracy Segment 3                0.274752\n",
              "Accuracy Segment 4                0.236641"
            ]
          },
          "execution_count": 11,
          "metadata": {},
          "output_type": "execute_result"
        }
      ],
      "source": [
        "# Evaluation du modèle\n",
        "evaluation(y_pred, y_test)"
      ]
    },
    {
      "cell_type": "markdown",
      "id": "b1898e40",
      "metadata": {
        "id": "b1898e40"
      },
      "source": [
        "---\n",
        "\n",
        "## 1.3 Regressions Logisitic\n",
        "\n",
        "<img src='https://media-exp1.licdn.com/dms/image/C4D12AQHzJqMFJbYl7g/article-cover_image-shrink_600_2000/0/1588434153330?e=1657152000&v=beta&t=C31459H5tmS6Va7AQCQ-JqmHjJPPT7rbYqctLgbiUes'>\n",
        "\n",
        "Dans cette partie nous allons répéter la même procédure d'entrainement et d'évaluation mais avec une algorythme différent.\n",
        "\n",
        "---\n",
        "**Q12** Exécuter la cellule suivante afin d'importer notre second modèle de segmentation."
      ]
    },
    {
      "cell_type": "code",
      "execution_count": 18,
      "id": "ce030be2",
      "metadata": {
        "id": "ce030be2"
      },
      "outputs": [],
      "source": [
        "# Import du modèle\n",
        "from sklearn.linear_model import LogisticRegression\n",
        "\n",
        "# Deffinition du modèle dans la variable lf\n",
        "lr = LogisticRegression(max_iter=10000)"
      ]
    },
    {
      "cell_type": "markdown",
      "id": "abd612ee",
      "metadata": {
        "id": "abd612ee"
      },
      "source": [
        "---\n",
        "**Q13** Entrainez le modèle `lr` avec le module `.fit(X_train, y_train)` à l'image de ce qui a été fait à la question **Q8**."
      ]
    },
    {
      "cell_type": "code",
      "execution_count": 19,
      "id": "8ce0c6e8",
      "metadata": {
        "id": "8ce0c6e8"
      },
      "outputs": [
        {
          "data": {
            "text/html": [
              "<style>#sk-container-id-4 {color: black;background-color: white;}#sk-container-id-4 pre{padding: 0;}#sk-container-id-4 div.sk-toggleable {background-color: white;}#sk-container-id-4 label.sk-toggleable__label {cursor: pointer;display: block;width: 100%;margin-bottom: 0;padding: 0.3em;box-sizing: border-box;text-align: center;}#sk-container-id-4 label.sk-toggleable__label-arrow:before {content: \"▸\";float: left;margin-right: 0.25em;color: #696969;}#sk-container-id-4 label.sk-toggleable__label-arrow:hover:before {color: black;}#sk-container-id-4 div.sk-estimator:hover label.sk-toggleable__label-arrow:before {color: black;}#sk-container-id-4 div.sk-toggleable__content {max-height: 0;max-width: 0;overflow: hidden;text-align: left;background-color: #f0f8ff;}#sk-container-id-4 div.sk-toggleable__content pre {margin: 0.2em;color: black;border-radius: 0.25em;background-color: #f0f8ff;}#sk-container-id-4 input.sk-toggleable__control:checked~div.sk-toggleable__content {max-height: 200px;max-width: 100%;overflow: auto;}#sk-container-id-4 input.sk-toggleable__control:checked~label.sk-toggleable__label-arrow:before {content: \"▾\";}#sk-container-id-4 div.sk-estimator input.sk-toggleable__control:checked~label.sk-toggleable__label {background-color: #d4ebff;}#sk-container-id-4 div.sk-label input.sk-toggleable__control:checked~label.sk-toggleable__label {background-color: #d4ebff;}#sk-container-id-4 input.sk-hidden--visually {border: 0;clip: rect(1px 1px 1px 1px);clip: rect(1px, 1px, 1px, 1px);height: 1px;margin: -1px;overflow: hidden;padding: 0;position: absolute;width: 1px;}#sk-container-id-4 div.sk-estimator {font-family: monospace;background-color: #f0f8ff;border: 1px dotted black;border-radius: 0.25em;box-sizing: border-box;margin-bottom: 0.5em;}#sk-container-id-4 div.sk-estimator:hover {background-color: #d4ebff;}#sk-container-id-4 div.sk-parallel-item::after {content: \"\";width: 100%;border-bottom: 1px solid gray;flex-grow: 1;}#sk-container-id-4 div.sk-label:hover label.sk-toggleable__label {background-color: #d4ebff;}#sk-container-id-4 div.sk-serial::before {content: \"\";position: absolute;border-left: 1px solid gray;box-sizing: border-box;top: 0;bottom: 0;left: 50%;z-index: 0;}#sk-container-id-4 div.sk-serial {display: flex;flex-direction: column;align-items: center;background-color: white;padding-right: 0.2em;padding-left: 0.2em;position: relative;}#sk-container-id-4 div.sk-item {position: relative;z-index: 1;}#sk-container-id-4 div.sk-parallel {display: flex;align-items: stretch;justify-content: center;background-color: white;position: relative;}#sk-container-id-4 div.sk-item::before, #sk-container-id-4 div.sk-parallel-item::before {content: \"\";position: absolute;border-left: 1px solid gray;box-sizing: border-box;top: 0;bottom: 0;left: 50%;z-index: -1;}#sk-container-id-4 div.sk-parallel-item {display: flex;flex-direction: column;z-index: 1;position: relative;background-color: white;}#sk-container-id-4 div.sk-parallel-item:first-child::after {align-self: flex-end;width: 50%;}#sk-container-id-4 div.sk-parallel-item:last-child::after {align-self: flex-start;width: 50%;}#sk-container-id-4 div.sk-parallel-item:only-child::after {width: 0;}#sk-container-id-4 div.sk-dashed-wrapped {border: 1px dashed gray;margin: 0 0.4em 0.5em 0.4em;box-sizing: border-box;padding-bottom: 0.4em;background-color: white;}#sk-container-id-4 div.sk-label label {font-family: monospace;font-weight: bold;display: inline-block;line-height: 1.2em;}#sk-container-id-4 div.sk-label-container {text-align: center;}#sk-container-id-4 div.sk-container {/* jupyter's `normalize.less` sets `[hidden] { display: none; }` but bootstrap.min.css set `[hidden] { display: none !important; }` so we also need the `!important` here to be able to override the default hidden behavior on the sphinx rendered scikit-learn.org. See: https://github.com/scikit-learn/scikit-learn/issues/21755 */display: inline-block !important;position: relative;}#sk-container-id-4 div.sk-text-repr-fallback {display: none;}</style><div id=\"sk-container-id-4\" class=\"sk-top-container\"><div class=\"sk-text-repr-fallback\"><pre>LogisticRegression(max_iter=10000)</pre><b>In a Jupyter environment, please rerun this cell to show the HTML representation or trust the notebook. <br />On GitHub, the HTML representation is unable to render, please try loading this page with nbviewer.org.</b></div><div class=\"sk-container\" hidden><div class=\"sk-item\"><div class=\"sk-estimator sk-toggleable\"><input class=\"sk-toggleable__control sk-hidden--visually\" id=\"sk-estimator-id-4\" type=\"checkbox\" checked><label for=\"sk-estimator-id-4\" class=\"sk-toggleable__label sk-toggleable__label-arrow\">LogisticRegression</label><div class=\"sk-toggleable__content\"><pre>LogisticRegression(max_iter=10000)</pre></div></div></div></div></div>"
            ],
            "text/plain": [
              "LogisticRegression(max_iter=10000)"
            ]
          },
          "execution_count": 19,
          "metadata": {},
          "output_type": "execute_result"
        }
      ],
      "source": [
        "# Entraînement du modèle lr\n",
        "lr.fit(X_train, y_train)"
      ]
    },
    {
      "cell_type": "markdown",
      "id": "02ab6998",
      "metadata": {
        "id": "02ab6998"
      },
      "source": [
        "---\n",
        "**Q14** Faîtes une prédiction à partir du modèle lr à partir de nos données test X et assigner cette prédiction dans une variable `y_pred`.\n",
        "\n",
        "La nomenclature est la suite : `y_pred = model.predict(X_test)` où `model` dans ce cas présent doit être remplacé par le modèle `lr`."
      ]
    },
    {
      "cell_type": "code",
      "execution_count": 20,
      "id": "4c614b6f",
      "metadata": {
        "id": "4c614b6f"
      },
      "outputs": [],
      "source": [
        "# Prédiction du modèle lr dans la variable y_pred\n",
        "y_pred = lr.predict(X_test)"
      ]
    },
    {
      "attachments": {},
      "cell_type": "markdown",
      "id": "0721d96b",
      "metadata": {
        "id": "0721d96b"
      },
      "source": [
        "---\n",
        "**Q15** Evaluez le modèle `lr` en utilisant la fonction `evaluation` sur les variables `y_pred` et `y_test` à l'image de la question **Q11**. Notez vos observations."
      ]
    },
    {
      "cell_type": "code",
      "execution_count": 22,
      "id": "10769731",
      "metadata": {
        "id": "10769731"
      },
      "outputs": [
        {
          "data": {
            "text/html": [
              "<div>\n",
              "<style scoped>\n",
              "    .dataframe tbody tr th:only-of-type {\n",
              "        vertical-align: middle;\n",
              "    }\n",
              "\n",
              "    .dataframe tbody tr th {\n",
              "        vertical-align: top;\n",
              "    }\n",
              "\n",
              "    .dataframe thead th {\n",
              "        text-align: right;\n",
              "    }\n",
              "</style>\n",
              "<table border=\"1\" class=\"dataframe\">\n",
              "  <thead>\n",
              "    <tr style=\"text-align: right;\">\n",
              "      <th></th>\n",
              "      <th>Score par Segmentation</th>\n",
              "    </tr>\n",
              "  </thead>\n",
              "  <tbody>\n",
              "    <tr>\n",
              "      <th>Accuracy Segment 1</th>\n",
              "      <td>0.686364</td>\n",
              "    </tr>\n",
              "    <tr>\n",
              "      <th>Accuracy Segment 2</th>\n",
              "      <td>0.681395</td>\n",
              "    </tr>\n",
              "    <tr>\n",
              "      <th>Accuracy Segment 3</th>\n",
              "      <td>0.346535</td>\n",
              "    </tr>\n",
              "    <tr>\n",
              "      <th>Accuracy Segment 4</th>\n",
              "      <td>0.155216</td>\n",
              "    </tr>\n",
              "  </tbody>\n",
              "</table>\n",
              "</div>"
            ],
            "text/plain": [
              "                    Score par Segmentation\n",
              "Accuracy Segment 1                0.686364\n",
              "Accuracy Segment 2                0.681395\n",
              "Accuracy Segment 3                0.346535\n",
              "Accuracy Segment 4                0.155216"
            ]
          },
          "execution_count": 22,
          "metadata": {},
          "output_type": "execute_result"
        }
      ],
      "source": [
        "# Evaluation du modèle lr\n",
        "evaluation(y_pred, y_test )"
      ]
    },
    {
      "cell_type": "markdown",
      "id": "977911ce",
      "metadata": {
        "id": "977911ce"
      },
      "source": [
        "## 1. Approche probabiliste\n",
        "<img src='https://drive.google.com/uc?export=view&id=1JVzJXqW-n5zaSAB1HWpF_JLCDfNWVFx0'>"
      ]
    },
    {
      "cell_type": "markdown",
      "id": "5c830245",
      "metadata": {
        "id": "5c830245"
      },
      "source": [
        "---\n",
        "**Q16** Exécuter la cellule suivante afin d'importer notre troisème modèle de segmentation."
      ]
    },
    {
      "cell_type": "code",
      "execution_count": 23,
      "id": "4f97e087",
      "metadata": {
        "id": "4f97e087"
      },
      "outputs": [],
      "source": [
        "# Import du modèle GaussianNB de la bibliothèque sklearn\n",
        "from sklearn.naive_bayes import GaussianNB\n",
        "\n",
        "# Deffinition du modèle dans la variable gnb\n",
        "gnb = GaussianNB()"
      ]
    },
    {
      "cell_type": "markdown",
      "id": "9b428b1f",
      "metadata": {
        "id": "9b428b1f"
      },
      "source": [
        "---\n",
        "**Q17** Entraînez le modèle `gnb` à l'image de ce qui a été fait à la question **Q13**."
      ]
    },
    {
      "cell_type": "code",
      "execution_count": 25,
      "id": "2c718545",
      "metadata": {
        "id": "2c718545"
      },
      "outputs": [
        {
          "data": {
            "text/html": [
              "<style>#sk-container-id-5 {color: black;background-color: white;}#sk-container-id-5 pre{padding: 0;}#sk-container-id-5 div.sk-toggleable {background-color: white;}#sk-container-id-5 label.sk-toggleable__label {cursor: pointer;display: block;width: 100%;margin-bottom: 0;padding: 0.3em;box-sizing: border-box;text-align: center;}#sk-container-id-5 label.sk-toggleable__label-arrow:before {content: \"▸\";float: left;margin-right: 0.25em;color: #696969;}#sk-container-id-5 label.sk-toggleable__label-arrow:hover:before {color: black;}#sk-container-id-5 div.sk-estimator:hover label.sk-toggleable__label-arrow:before {color: black;}#sk-container-id-5 div.sk-toggleable__content {max-height: 0;max-width: 0;overflow: hidden;text-align: left;background-color: #f0f8ff;}#sk-container-id-5 div.sk-toggleable__content pre {margin: 0.2em;color: black;border-radius: 0.25em;background-color: #f0f8ff;}#sk-container-id-5 input.sk-toggleable__control:checked~div.sk-toggleable__content {max-height: 200px;max-width: 100%;overflow: auto;}#sk-container-id-5 input.sk-toggleable__control:checked~label.sk-toggleable__label-arrow:before {content: \"▾\";}#sk-container-id-5 div.sk-estimator input.sk-toggleable__control:checked~label.sk-toggleable__label {background-color: #d4ebff;}#sk-container-id-5 div.sk-label input.sk-toggleable__control:checked~label.sk-toggleable__label {background-color: #d4ebff;}#sk-container-id-5 input.sk-hidden--visually {border: 0;clip: rect(1px 1px 1px 1px);clip: rect(1px, 1px, 1px, 1px);height: 1px;margin: -1px;overflow: hidden;padding: 0;position: absolute;width: 1px;}#sk-container-id-5 div.sk-estimator {font-family: monospace;background-color: #f0f8ff;border: 1px dotted black;border-radius: 0.25em;box-sizing: border-box;margin-bottom: 0.5em;}#sk-container-id-5 div.sk-estimator:hover {background-color: #d4ebff;}#sk-container-id-5 div.sk-parallel-item::after {content: \"\";width: 100%;border-bottom: 1px solid gray;flex-grow: 1;}#sk-container-id-5 div.sk-label:hover label.sk-toggleable__label {background-color: #d4ebff;}#sk-container-id-5 div.sk-serial::before {content: \"\";position: absolute;border-left: 1px solid gray;box-sizing: border-box;top: 0;bottom: 0;left: 50%;z-index: 0;}#sk-container-id-5 div.sk-serial {display: flex;flex-direction: column;align-items: center;background-color: white;padding-right: 0.2em;padding-left: 0.2em;position: relative;}#sk-container-id-5 div.sk-item {position: relative;z-index: 1;}#sk-container-id-5 div.sk-parallel {display: flex;align-items: stretch;justify-content: center;background-color: white;position: relative;}#sk-container-id-5 div.sk-item::before, #sk-container-id-5 div.sk-parallel-item::before {content: \"\";position: absolute;border-left: 1px solid gray;box-sizing: border-box;top: 0;bottom: 0;left: 50%;z-index: -1;}#sk-container-id-5 div.sk-parallel-item {display: flex;flex-direction: column;z-index: 1;position: relative;background-color: white;}#sk-container-id-5 div.sk-parallel-item:first-child::after {align-self: flex-end;width: 50%;}#sk-container-id-5 div.sk-parallel-item:last-child::after {align-self: flex-start;width: 50%;}#sk-container-id-5 div.sk-parallel-item:only-child::after {width: 0;}#sk-container-id-5 div.sk-dashed-wrapped {border: 1px dashed gray;margin: 0 0.4em 0.5em 0.4em;box-sizing: border-box;padding-bottom: 0.4em;background-color: white;}#sk-container-id-5 div.sk-label label {font-family: monospace;font-weight: bold;display: inline-block;line-height: 1.2em;}#sk-container-id-5 div.sk-label-container {text-align: center;}#sk-container-id-5 div.sk-container {/* jupyter's `normalize.less` sets `[hidden] { display: none; }` but bootstrap.min.css set `[hidden] { display: none !important; }` so we also need the `!important` here to be able to override the default hidden behavior on the sphinx rendered scikit-learn.org. See: https://github.com/scikit-learn/scikit-learn/issues/21755 */display: inline-block !important;position: relative;}#sk-container-id-5 div.sk-text-repr-fallback {display: none;}</style><div id=\"sk-container-id-5\" class=\"sk-top-container\"><div class=\"sk-text-repr-fallback\"><pre>GaussianNB()</pre><b>In a Jupyter environment, please rerun this cell to show the HTML representation or trust the notebook. <br />On GitHub, the HTML representation is unable to render, please try loading this page with nbviewer.org.</b></div><div class=\"sk-container\" hidden><div class=\"sk-item\"><div class=\"sk-estimator sk-toggleable\"><input class=\"sk-toggleable__control sk-hidden--visually\" id=\"sk-estimator-id-5\" type=\"checkbox\" checked><label for=\"sk-estimator-id-5\" class=\"sk-toggleable__label sk-toggleable__label-arrow\">GaussianNB</label><div class=\"sk-toggleable__content\"><pre>GaussianNB()</pre></div></div></div></div></div>"
            ],
            "text/plain": [
              "GaussianNB()"
            ]
          },
          "execution_count": 25,
          "metadata": {},
          "output_type": "execute_result"
        }
      ],
      "source": [
        "# Entrainement du modèle gnb\n",
        "gnb.fit(X_train, y_train)"
      ]
    },
    {
      "cell_type": "markdown",
      "id": "46a6d8bc",
      "metadata": {
        "id": "46a6d8bc"
      },
      "source": [
        "---\n",
        "**Q18** Faites une prédiction sur X_test et enregistrez le résultat dans une variable y_pred (**Q14**)."
      ]
    },
    {
      "cell_type": "code",
      "execution_count": 27,
      "id": "73841529",
      "metadata": {
        "id": "73841529"
      },
      "outputs": [],
      "source": [
        "# Prédiction du modèle gnb à partir des données test dans la variable y_pred\n",
        "y_pred = gnb.predict(X_test)"
      ]
    },
    {
      "cell_type": "markdown",
      "id": "8ba7fc39",
      "metadata": {
        "id": "8ba7fc39"
      },
      "source": [
        "---\n",
        "**Q19** Evaluez le modèle `gnb` (**Q16**)."
      ]
    },
    {
      "cell_type": "code",
      "execution_count": 28,
      "id": "866c5a58",
      "metadata": {
        "id": "866c5a58"
      },
      "outputs": [
        {
          "data": {
            "text/html": [
              "<div>\n",
              "<style scoped>\n",
              "    .dataframe tbody tr th:only-of-type {\n",
              "        vertical-align: middle;\n",
              "    }\n",
              "\n",
              "    .dataframe tbody tr th {\n",
              "        vertical-align: top;\n",
              "    }\n",
              "\n",
              "    .dataframe thead th {\n",
              "        text-align: right;\n",
              "    }\n",
              "</style>\n",
              "<table border=\"1\" class=\"dataframe\">\n",
              "  <thead>\n",
              "    <tr style=\"text-align: right;\">\n",
              "      <th></th>\n",
              "      <th>Score par Segmentation</th>\n",
              "    </tr>\n",
              "  </thead>\n",
              "  <tbody>\n",
              "    <tr>\n",
              "      <th>Accuracy Segment 1</th>\n",
              "      <td>0.750000</td>\n",
              "    </tr>\n",
              "    <tr>\n",
              "      <th>Accuracy Segment 2</th>\n",
              "      <td>0.672093</td>\n",
              "    </tr>\n",
              "    <tr>\n",
              "      <th>Accuracy Segment 3</th>\n",
              "      <td>0.202970</td>\n",
              "    </tr>\n",
              "    <tr>\n",
              "      <th>Accuracy Segment 4</th>\n",
              "      <td>0.152672</td>\n",
              "    </tr>\n",
              "  </tbody>\n",
              "</table>\n",
              "</div>"
            ],
            "text/plain": [
              "                    Score par Segmentation\n",
              "Accuracy Segment 1                0.750000\n",
              "Accuracy Segment 2                0.672093\n",
              "Accuracy Segment 3                0.202970\n",
              "Accuracy Segment 4                0.152672"
            ]
          },
          "execution_count": 28,
          "metadata": {},
          "output_type": "execute_result"
        }
      ],
      "source": [
        "# Evaluation du modèle gnb\n",
        "evaluation(y_pred, y_test)"
      ]
    },
    {
      "cell_type": "markdown",
      "id": "33a4ddd3",
      "metadata": {
        "id": "33a4ddd3"
      },
      "source": [
        "## 1.4 Arbre de décision\n",
        "\n",
        "<img src='https://i.ibb.co/MMDMFXx/decision-tree-reg.png'>"
      ]
    },
    {
      "cell_type": "markdown",
      "id": "4186bd00",
      "metadata": {
        "id": "4186bd00"
      },
      "source": [
        "---\n",
        "**Q20** Exécuter la cellule suivante afin d'importer notre second modèle de segmentation, puis :\n",
        "- Entrainez le modèle `dt`,\n",
        "- Faites une prédiction enregistrée dans une variable `y_pred`,\n",
        "- Evaluez le modèle,\n",
        "\n",
        "A l'image de ce qui a été fait précedement."
      ]
    },
    {
      "cell_type": "code",
      "execution_count": 29,
      "id": "4134c8b6",
      "metadata": {
        "id": "4134c8b6"
      },
      "outputs": [],
      "source": [
        "# Import du modèle DecisionTreeClassifier de la bibliothèque sklearn\n",
        "from sklearn.tree import DecisionTreeClassifier\n",
        "\n",
        "# Définition du modèle DecisionTreeClassifier dans la variable dt\n",
        "dt = DecisionTreeClassifier()"
      ]
    },
    {
      "cell_type": "code",
      "execution_count": 30,
      "id": "e3828964",
      "metadata": {
        "id": "e3828964"
      },
      "outputs": [
        {
          "data": {
            "text/html": [
              "<div>\n",
              "<style scoped>\n",
              "    .dataframe tbody tr th:only-of-type {\n",
              "        vertical-align: middle;\n",
              "    }\n",
              "\n",
              "    .dataframe tbody tr th {\n",
              "        vertical-align: top;\n",
              "    }\n",
              "\n",
              "    .dataframe thead th {\n",
              "        text-align: right;\n",
              "    }\n",
              "</style>\n",
              "<table border=\"1\" class=\"dataframe\">\n",
              "  <thead>\n",
              "    <tr style=\"text-align: right;\">\n",
              "      <th></th>\n",
              "      <th>Score par Segmentation</th>\n",
              "    </tr>\n",
              "  </thead>\n",
              "  <tbody>\n",
              "    <tr>\n",
              "      <th>Accuracy Segment 1</th>\n",
              "      <td>0.575000</td>\n",
              "    </tr>\n",
              "    <tr>\n",
              "      <th>Accuracy Segment 2</th>\n",
              "      <td>0.509302</td>\n",
              "    </tr>\n",
              "    <tr>\n",
              "      <th>Accuracy Segment 3</th>\n",
              "      <td>0.381188</td>\n",
              "    </tr>\n",
              "    <tr>\n",
              "      <th>Accuracy Segment 4</th>\n",
              "      <td>0.315522</td>\n",
              "    </tr>\n",
              "  </tbody>\n",
              "</table>\n",
              "</div>"
            ],
            "text/plain": [
              "                    Score par Segmentation\n",
              "Accuracy Segment 1                0.575000\n",
              "Accuracy Segment 2                0.509302\n",
              "Accuracy Segment 3                0.381188\n",
              "Accuracy Segment 4                0.315522"
            ]
          },
          "execution_count": 30,
          "metadata": {},
          "output_type": "execute_result"
        }
      ],
      "source": [
        "# Entrainement du modèle dt\n",
        "dt.fit(X_train, y_train)\n",
        "\n",
        "# Prédiction du modèle dt\n",
        "y_pred = dt.predict(X_test)\n",
        "\n",
        "# Evaluation du modèle dt\n",
        "evaluation(y_pred, y_test)"
      ]
    },
    {
      "cell_type": "markdown",
      "id": "f7076363",
      "metadata": {
        "id": "f7076363"
      },
      "source": [
        "# Conclusion\n",
        "\n",
        "Nous avons observervé la classification (segmentation client) de 4 modèle à partir de notre jeu de données clients.\n",
        "\n",
        "Chaque modèle adopte un formalisme mathématique différent mais s'utilise de la même manière :\n",
        "- Import du modèle depuis la bibliothèque sklearn\n",
        "- Entrainement du modèle avec le jeu d'entraînement (train)\n",
        "- Prédiction puis évaluation à partir du jeu d'évaluation (test)\n",
        "\n",
        "Notez les diffrérences que vous avez observez dans les résultats d'évaluation des modèles."
      ]
    },
    {
      "cell_type": "markdown",
      "id": "aec747b9",
      "metadata": {
        "id": "aec747b9"
      },
      "source": [
        "# Partie 3 - Bonus : Data Processing \n",
        "\n",
        "<img src='https://tutorialforbeginner.com/images/tutorial/data-preprocessing-machine-learning-5.png'>\n",
        "\n",
        "\n",
        "Remplacez les données qualitatives manquantes du jeu de données [suivant](https://drive.google.com/file/d/13EpnupLYyUBs1Y9iFjBglAvQjh4L5vru/view?usp=sharing) (jeu de données vu au TP2) en utilisant les techniques de machine learning."
      ]
    },
    {
      "cell_type": "code",
      "execution_count": null,
      "id": "eef9d25a",
      "metadata": {
        "id": "eef9d25a"
      },
      "outputs": [],
      "source": [
        "# Fonctions & modules utiles\n",
        "\n",
        "\n",
        "# Remplacer une variable qualitatives en variable quantitative\n",
        "def catégorical(df, column):\n",
        "    df = df.dropna()\n",
        "    liste_ = list(df[column].value_counts().index)\n",
        "    df[column] = df[column].apply(lambda x: liste_.index(x))\n",
        "    return df\n",
        "\n",
        "\n",
        "# Filtre contenant les données manquantes d'une colonne\n",
        "filtre_nan = df['nom de la colonne'].isna()\n",
        "\n",
        "\n",
        "# Filtre contenant les non manquantes d'une colonne\n",
        "filtre_notnan = df['nom de la colonne'].notna()\n",
        "\n",
        "\n",
        "# Jeu de données filtré \n",
        "df[filtre]\n",
        "\n",
        "# Sélectionner une colonne en fonction d'un filtre\n",
        "df['nom de la colonne'][filtre]\n",
        "\n",
        "# Retirer une colonne du jeu de données\n",
        "df.drop(['nom de la colone'], axis=1)"
      ]
    },
    {
      "cell_type": "code",
      "execution_count": null,
      "id": "i5M9PuD_XkUB",
      "metadata": {
        "id": "i5M9PuD_XkUB"
      },
      "outputs": [],
      "source": []
    },
    {
      "cell_type": "code",
      "execution_count": null,
      "id": "qr6sVAgBXkK0",
      "metadata": {
        "id": "qr6sVAgBXkK0"
      },
      "outputs": [],
      "source": []
    },
    {
      "cell_type": "code",
      "execution_count": null,
      "id": "pY4r_dUyXjxG",
      "metadata": {
        "id": "pY4r_dUyXjxG"
      },
      "outputs": [],
      "source": []
    }
  ],
  "metadata": {
    "colab": {
      "provenance": []
    },
    "kernelspec": {
      "display_name": "Python 3",
      "language": "python",
      "name": "python3"
    },
    "language_info": {
      "codemirror_mode": {
        "name": "ipython",
        "version": 3
      },
      "file_extension": ".py",
      "mimetype": "text/x-python",
      "name": "python",
      "nbconvert_exporter": "python",
      "pygments_lexer": "ipython3",
      "version": "3.10.9"
    },
    "vscode": {
      "interpreter": {
        "hash": "aee8b7b246df8f9039afb4144a1f6fd8d2ca17a180786b69acc140d282b71a49"
      }
    }
  },
  "nbformat": 4,
  "nbformat_minor": 5
}
