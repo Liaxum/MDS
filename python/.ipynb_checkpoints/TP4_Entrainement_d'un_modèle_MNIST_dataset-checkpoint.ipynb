{
 "cells": [
  {
   "cell_type": "markdown",
   "metadata": {
    "id": "h_CtzDfCAfx8"
   },
   "source": [
    "\n",
    "# Entrainement d'un modèle à partir du jeu de données MNIST\n",
    "\n",
    "\n",
    "<img src='https://upload.wikimedia.org/wikipedia/commons/thumb/2/27/MnistExamples.png/440px-MnistExamples.png' >\n",
    "\n",
    "Ce TP a pour objectif d'entraîner un modèle de machine learning à reconnaître des chiffres écrits à la main.\n",
    "\n",
    "Vous trouverez par la suite les étapes à suivre pour :\n",
    "1. Importer le jeu de données\n",
    "2. Préparer le jeu de données avant l'entraînement\n",
    "3. Importer, entraîner et évaluer un modèle de machine Learning\n",
    "\n",
    "\n",
    "Pour rappel, vous êtes actuellement sur l'environement de développement open-source 'Collab' créée par des développeurs de Google.\n",
    "Cet environnement contient de base les bibliothèques de datascience : Pandas, - Pandas : pour de la manipulation des tableaux de données,\n",
    "- Sklearn : pour du Machine Learning,\n",
    "- Numpy : pour la manipulation de vecteur,\n",
    "- Tensorflow : pour de la construction de modèles de deeplearning\n",
    "\n",
    "Voici les commandes les plus utiles pour interagir avec cet environnement :\n",
    "\n",
    "- \"ctrl\" + \"Enter\" = Exécuter une cellule\n",
    "- \"a\" = créer une cellule en haut\n",
    "- \"b\" = créer une cellule en bas\n",
    "- \"dd\" = supprimer une cellule\n",
    "- \"echap\" = sortir d'une cellule\n",
    "---\n",
    "\n"
   ]
  },
  {
   "cell_type": "markdown",
   "metadata": {
    "id": "KQqBLO3uA6qp"
   },
   "source": [
    "# 1 Import et visualisation du jeu de données\n",
    "\n",
    "Dans cette partie vous allez importer le célèbre jeu de données MNIST créée par l'équipe française du chercheur en intelligence artificielle et vision artificielle Yann Lecun.\n",
    "\n",
    "## 1.1 Importez les bibliotèques de datascience puis exécutez la cellule\n",
    "\n",
    "Pour rappel l'import d'une bibliothèque ce fait avec la commande 'import' + nom de la bibliothèque (sautez à la ligne pour chaque import) :\n",
    "* pandas\n",
    "* numpy\n",
    "* matplotlib.pyplot\n"
   ]
  },
  {
   "cell_type": "code",
   "execution_count": 1,
   "metadata": {
    "id": "ZvB1diEeOkQG"
   },
   "outputs": [],
   "source": [
    "import pandas as pd\n",
    "import numpy as np\n",
    "import matplotlib.pyplot as plt"
   ]
  },
  {
   "cell_type": "markdown",
   "metadata": {
    "id": "Xw0JzvN9B0Qf"
   },
   "source": [
    "## 1.2 Chargez le fichier 'mnist_train_small.csv' puis exécutez la cellule\n",
    "\n",
    "Le fichier se trouve initialement dans le dossier 'sample_data'. Complétez le code ci-dessous avec le nom du fichier 'mnist_train_small.csv' à l'endroit approprié."
   ]
  },
  {
   "cell_type": "code",
   "execution_count": 4,
   "metadata": {
    "id": "dW5WBNkYO_o0"
   },
   "outputs": [
    {
     "data": {
      "text/html": [
       "<div>\n",
       "<style scoped>\n",
       "    .dataframe tbody tr th:only-of-type {\n",
       "        vertical-align: middle;\n",
       "    }\n",
       "\n",
       "    .dataframe tbody tr th {\n",
       "        vertical-align: top;\n",
       "    }\n",
       "\n",
       "    .dataframe thead th {\n",
       "        text-align: right;\n",
       "    }\n",
       "</style>\n",
       "<table border=\"1\" class=\"dataframe\">\n",
       "  <thead>\n",
       "    <tr style=\"text-align: right;\">\n",
       "      <th></th>\n",
       "      <th>6</th>\n",
       "      <th>0</th>\n",
       "      <th>0.1</th>\n",
       "      <th>0.2</th>\n",
       "      <th>0.3</th>\n",
       "      <th>0.4</th>\n",
       "      <th>0.5</th>\n",
       "      <th>0.6</th>\n",
       "      <th>0.7</th>\n",
       "      <th>0.8</th>\n",
       "      <th>...</th>\n",
       "      <th>0.581</th>\n",
       "      <th>0.582</th>\n",
       "      <th>0.583</th>\n",
       "      <th>0.584</th>\n",
       "      <th>0.585</th>\n",
       "      <th>0.586</th>\n",
       "      <th>0.587</th>\n",
       "      <th>0.588</th>\n",
       "      <th>0.589</th>\n",
       "      <th>0.590</th>\n",
       "    </tr>\n",
       "  </thead>\n",
       "  <tbody>\n",
       "    <tr>\n",
       "      <th>0</th>\n",
       "      <td>5</td>\n",
       "      <td>0</td>\n",
       "      <td>0</td>\n",
       "      <td>0</td>\n",
       "      <td>0</td>\n",
       "      <td>0</td>\n",
       "      <td>0</td>\n",
       "      <td>0</td>\n",
       "      <td>0</td>\n",
       "      <td>0</td>\n",
       "      <td>...</td>\n",
       "      <td>0</td>\n",
       "      <td>0</td>\n",
       "      <td>0</td>\n",
       "      <td>0</td>\n",
       "      <td>0</td>\n",
       "      <td>0</td>\n",
       "      <td>0</td>\n",
       "      <td>0</td>\n",
       "      <td>0</td>\n",
       "      <td>0</td>\n",
       "    </tr>\n",
       "    <tr>\n",
       "      <th>1</th>\n",
       "      <td>7</td>\n",
       "      <td>0</td>\n",
       "      <td>0</td>\n",
       "      <td>0</td>\n",
       "      <td>0</td>\n",
       "      <td>0</td>\n",
       "      <td>0</td>\n",
       "      <td>0</td>\n",
       "      <td>0</td>\n",
       "      <td>0</td>\n",
       "      <td>...</td>\n",
       "      <td>0</td>\n",
       "      <td>0</td>\n",
       "      <td>0</td>\n",
       "      <td>0</td>\n",
       "      <td>0</td>\n",
       "      <td>0</td>\n",
       "      <td>0</td>\n",
       "      <td>0</td>\n",
       "      <td>0</td>\n",
       "      <td>0</td>\n",
       "    </tr>\n",
       "    <tr>\n",
       "      <th>2</th>\n",
       "      <td>9</td>\n",
       "      <td>0</td>\n",
       "      <td>0</td>\n",
       "      <td>0</td>\n",
       "      <td>0</td>\n",
       "      <td>0</td>\n",
       "      <td>0</td>\n",
       "      <td>0</td>\n",
       "      <td>0</td>\n",
       "      <td>0</td>\n",
       "      <td>...</td>\n",
       "      <td>0</td>\n",
       "      <td>0</td>\n",
       "      <td>0</td>\n",
       "      <td>0</td>\n",
       "      <td>0</td>\n",
       "      <td>0</td>\n",
       "      <td>0</td>\n",
       "      <td>0</td>\n",
       "      <td>0</td>\n",
       "      <td>0</td>\n",
       "    </tr>\n",
       "    <tr>\n",
       "      <th>3</th>\n",
       "      <td>5</td>\n",
       "      <td>0</td>\n",
       "      <td>0</td>\n",
       "      <td>0</td>\n",
       "      <td>0</td>\n",
       "      <td>0</td>\n",
       "      <td>0</td>\n",
       "      <td>0</td>\n",
       "      <td>0</td>\n",
       "      <td>0</td>\n",
       "      <td>...</td>\n",
       "      <td>0</td>\n",
       "      <td>0</td>\n",
       "      <td>0</td>\n",
       "      <td>0</td>\n",
       "      <td>0</td>\n",
       "      <td>0</td>\n",
       "      <td>0</td>\n",
       "      <td>0</td>\n",
       "      <td>0</td>\n",
       "      <td>0</td>\n",
       "    </tr>\n",
       "    <tr>\n",
       "      <th>4</th>\n",
       "      <td>2</td>\n",
       "      <td>0</td>\n",
       "      <td>0</td>\n",
       "      <td>0</td>\n",
       "      <td>0</td>\n",
       "      <td>0</td>\n",
       "      <td>0</td>\n",
       "      <td>0</td>\n",
       "      <td>0</td>\n",
       "      <td>0</td>\n",
       "      <td>...</td>\n",
       "      <td>0</td>\n",
       "      <td>0</td>\n",
       "      <td>0</td>\n",
       "      <td>0</td>\n",
       "      <td>0</td>\n",
       "      <td>0</td>\n",
       "      <td>0</td>\n",
       "      <td>0</td>\n",
       "      <td>0</td>\n",
       "      <td>0</td>\n",
       "    </tr>\n",
       "    <tr>\n",
       "      <th>...</th>\n",
       "      <td>...</td>\n",
       "      <td>...</td>\n",
       "      <td>...</td>\n",
       "      <td>...</td>\n",
       "      <td>...</td>\n",
       "      <td>...</td>\n",
       "      <td>...</td>\n",
       "      <td>...</td>\n",
       "      <td>...</td>\n",
       "      <td>...</td>\n",
       "      <td>...</td>\n",
       "      <td>...</td>\n",
       "      <td>...</td>\n",
       "      <td>...</td>\n",
       "      <td>...</td>\n",
       "      <td>...</td>\n",
       "      <td>...</td>\n",
       "      <td>...</td>\n",
       "      <td>...</td>\n",
       "      <td>...</td>\n",
       "      <td>...</td>\n",
       "    </tr>\n",
       "    <tr>\n",
       "      <th>19994</th>\n",
       "      <td>0</td>\n",
       "      <td>0</td>\n",
       "      <td>0</td>\n",
       "      <td>0</td>\n",
       "      <td>0</td>\n",
       "      <td>0</td>\n",
       "      <td>0</td>\n",
       "      <td>0</td>\n",
       "      <td>0</td>\n",
       "      <td>0</td>\n",
       "      <td>...</td>\n",
       "      <td>0</td>\n",
       "      <td>0</td>\n",
       "      <td>0</td>\n",
       "      <td>0</td>\n",
       "      <td>0</td>\n",
       "      <td>0</td>\n",
       "      <td>0</td>\n",
       "      <td>0</td>\n",
       "      <td>0</td>\n",
       "      <td>0</td>\n",
       "    </tr>\n",
       "    <tr>\n",
       "      <th>19995</th>\n",
       "      <td>1</td>\n",
       "      <td>0</td>\n",
       "      <td>0</td>\n",
       "      <td>0</td>\n",
       "      <td>0</td>\n",
       "      <td>0</td>\n",
       "      <td>0</td>\n",
       "      <td>0</td>\n",
       "      <td>0</td>\n",
       "      <td>0</td>\n",
       "      <td>...</td>\n",
       "      <td>0</td>\n",
       "      <td>0</td>\n",
       "      <td>0</td>\n",
       "      <td>0</td>\n",
       "      <td>0</td>\n",
       "      <td>0</td>\n",
       "      <td>0</td>\n",
       "      <td>0</td>\n",
       "      <td>0</td>\n",
       "      <td>0</td>\n",
       "    </tr>\n",
       "    <tr>\n",
       "      <th>19996</th>\n",
       "      <td>2</td>\n",
       "      <td>0</td>\n",
       "      <td>0</td>\n",
       "      <td>0</td>\n",
       "      <td>0</td>\n",
       "      <td>0</td>\n",
       "      <td>0</td>\n",
       "      <td>0</td>\n",
       "      <td>0</td>\n",
       "      <td>0</td>\n",
       "      <td>...</td>\n",
       "      <td>0</td>\n",
       "      <td>0</td>\n",
       "      <td>0</td>\n",
       "      <td>0</td>\n",
       "      <td>0</td>\n",
       "      <td>0</td>\n",
       "      <td>0</td>\n",
       "      <td>0</td>\n",
       "      <td>0</td>\n",
       "      <td>0</td>\n",
       "    </tr>\n",
       "    <tr>\n",
       "      <th>19997</th>\n",
       "      <td>9</td>\n",
       "      <td>0</td>\n",
       "      <td>0</td>\n",
       "      <td>0</td>\n",
       "      <td>0</td>\n",
       "      <td>0</td>\n",
       "      <td>0</td>\n",
       "      <td>0</td>\n",
       "      <td>0</td>\n",
       "      <td>0</td>\n",
       "      <td>...</td>\n",
       "      <td>0</td>\n",
       "      <td>0</td>\n",
       "      <td>0</td>\n",
       "      <td>0</td>\n",
       "      <td>0</td>\n",
       "      <td>0</td>\n",
       "      <td>0</td>\n",
       "      <td>0</td>\n",
       "      <td>0</td>\n",
       "      <td>0</td>\n",
       "    </tr>\n",
       "    <tr>\n",
       "      <th>19998</th>\n",
       "      <td>5</td>\n",
       "      <td>0</td>\n",
       "      <td>0</td>\n",
       "      <td>0</td>\n",
       "      <td>0</td>\n",
       "      <td>0</td>\n",
       "      <td>0</td>\n",
       "      <td>0</td>\n",
       "      <td>0</td>\n",
       "      <td>0</td>\n",
       "      <td>...</td>\n",
       "      <td>0</td>\n",
       "      <td>0</td>\n",
       "      <td>0</td>\n",
       "      <td>0</td>\n",
       "      <td>0</td>\n",
       "      <td>0</td>\n",
       "      <td>0</td>\n",
       "      <td>0</td>\n",
       "      <td>0</td>\n",
       "      <td>0</td>\n",
       "    </tr>\n",
       "  </tbody>\n",
       "</table>\n",
       "<p>19999 rows × 785 columns</p>\n",
       "</div>"
      ],
      "text/plain": [
       "       6  0  0.1  0.2  0.3  0.4  0.5  0.6  0.7  0.8  ...  0.581  0.582  0.583  \\\n",
       "0      5  0    0    0    0    0    0    0    0    0  ...      0      0      0   \n",
       "1      7  0    0    0    0    0    0    0    0    0  ...      0      0      0   \n",
       "2      9  0    0    0    0    0    0    0    0    0  ...      0      0      0   \n",
       "3      5  0    0    0    0    0    0    0    0    0  ...      0      0      0   \n",
       "4      2  0    0    0    0    0    0    0    0    0  ...      0      0      0   \n",
       "...   .. ..  ...  ...  ...  ...  ...  ...  ...  ...  ...    ...    ...    ...   \n",
       "19994  0  0    0    0    0    0    0    0    0    0  ...      0      0      0   \n",
       "19995  1  0    0    0    0    0    0    0    0    0  ...      0      0      0   \n",
       "19996  2  0    0    0    0    0    0    0    0    0  ...      0      0      0   \n",
       "19997  9  0    0    0    0    0    0    0    0    0  ...      0      0      0   \n",
       "19998  5  0    0    0    0    0    0    0    0    0  ...      0      0      0   \n",
       "\n",
       "       0.584  0.585  0.586  0.587  0.588  0.589  0.590  \n",
       "0          0      0      0      0      0      0      0  \n",
       "1          0      0      0      0      0      0      0  \n",
       "2          0      0      0      0      0      0      0  \n",
       "3          0      0      0      0      0      0      0  \n",
       "4          0      0      0      0      0      0      0  \n",
       "...      ...    ...    ...    ...    ...    ...    ...  \n",
       "19994      0      0      0      0      0      0      0  \n",
       "19995      0      0      0      0      0      0      0  \n",
       "19996      0      0      0      0      0      0      0  \n",
       "19997      0      0      0      0      0      0      0  \n",
       "19998      0      0      0      0      0      0      0  \n",
       "\n",
       "[19999 rows x 785 columns]"
      ]
     },
     "execution_count": 4,
     "metadata": {},
     "output_type": "execute_result"
    }
   ],
   "source": [
    "# Le jeu de données sera contenu dans la variable notée df (dataframe)\n",
    "# Nous utilisons le module read_csv pour lire le contenu dans la bibliothèque pandas\n",
    "# pour lire le fichier 'mnist_train_small.csv' contenu dans le répertoire 'sample_data'\n",
    "df = pd.read_csv('mnist_train_small.csv')\n"
   ]
  },
  {
   "cell_type": "markdown",
   "metadata": {
    "id": "tGDbgvG2DGhs"
   },
   "source": [
    "## 1.3 Ajoutez une zonne de texte et notez vos **observations**"
   ]
  },
  {
   "cell_type": "markdown",
   "metadata": {
    "id": "kJnj4Fg1DgiU"
   },
   "source": [
    "## 1.4 Afin d'observer la première ligne du jeu de données, exécutez la cellule suivante puis notez vos observations dans une zone de texte."
   ]
  },
  {
   "cell_type": "code",
   "execution_count": null,
   "metadata": {
    "id": "He9zT69AOljy"
   },
   "outputs": [],
   "source": [
    "# Nous utilisons ici le module d'affichage importé précédemment sur la première ligne du jeu de données 'df'\n",
    "matplotlib.pyplot.imshow(df.iloc[0].values[1:].reshape(28,28))"
   ]
  },
  {
   "cell_type": "markdown",
   "metadata": {
    "id": "pCIokJ0eEjMz"
   },
   "source": [
    "## 1.5 Exécutez la cellule suivante afin d'observer la seconde ligne puis notez vos observations"
   ]
  },
  {
   "cell_type": "code",
   "execution_count": null,
   "metadata": {
    "id": "o1--h5vUOjOR"
   },
   "outputs": [],
   "source": [
    "# Nous utilisons ici le module d'affichage importé précédemment sur la première ligne du jeu de données 'df'\n",
    "matplotlib.pyplot.imshow(df.iloc[1].values[1:].reshape(28,28))"
   ]
  },
  {
   "cell_type": "markdown",
   "metadata": {
    "id": "M5vYfaXRE0gw"
   },
   "source": [
    "## 1.6 Après ces observations, selon vous, dans quelle colonne du jeu de données se trouve la valeur numérique correspondant l'image ?"
   ]
  },
  {
   "cell_type": "markdown",
   "metadata": {
    "id": "1VrFmefdFqFX"
   },
   "source": [
    "# 2 Préparation des données pour l'entrainement du modèle\n",
    "\n",
    "## 2.1 Dans la cellule suivante, remplacez la lettre \"n\" par le numéro de la colonne contenant la valeure numérique associée à l'image"
   ]
  },
  {
   "cell_type": "code",
   "execution_count": null,
   "metadata": {
    "id": "jnUNHd46Fzjx"
   },
   "outputs": [],
   "source": [
    "# y sera notre label, c'est-à-dire la valeur à prédire lors de l'entraînement\n",
    "# df[n] signe que nous sélection la colonne 'n' du jeu de données pour en faire notre label\n",
    "y_train = df[n]\n",
    "\n",
    "# X correspond à notre jeu de données, soit les images que le modèle devra analyser pour faire sa prédiction\n",
    "# df.drop(n) signifie que nous retirons la colonne n du jeu de données.\n",
    "X_train = df.drop(n, axis=1)"
   ]
  },
  {
   "cell_type": "markdown",
   "metadata": {
    "id": "h1nXQosbI13n"
   },
   "source": [
    "## 2.2 Vérifiez que la valeur de y correspond bien à l'image X\n",
    "\n",
    "Si 'n' a bien été déterminer alors la valeur de l'image X correspond à la valeur y.\n",
    "\n",
    "Dans le code ci-dessous, on affiche X et y, \n",
    "Remplacez à l'endroit approprié (\"Tapez ici le numéro d'une ligne\") une valeur numérique qui correspond à une ligne du jeu de donnée, puis exécutez la cellule, la valeur y et l'image X s'afficheront et devront être identique."
   ]
  },
  {
   "cell_type": "code",
   "execution_count": null,
   "metadata": {
    "id": "T7vtJz8lZgYT"
   },
   "outputs": [],
   "source": [
    "#Exécutez la cellule sans modifier le code.\n",
    "# On créée ici une fonction qui affiche le label y et l'image X en fonction de la ligne 'n' du jeu de données\n",
    "def plot_donnees(n):\n",
    "    print(\"L'image contient le chiffre : \", y_train[n])\n",
    "    matplotlib.pyplot.imshow(X_train.values[n].reshape(28,28))"
   ]
  },
  {
   "cell_type": "code",
   "execution_count": null,
   "metadata": {
    "id": "IDkkMkJ8JWuL"
   },
   "outputs": [],
   "source": [
    "# Remplacez ici 'n' par un nombre (sans les guillemets)\n",
    "plot_donnees(n)"
   ]
  },
  {
   "cell_type": "markdown",
   "metadata": {
    "id": "1gBzCK6AK6aM"
   },
   "source": [
    "## 2.3 Complétez et exécutez les lignes suivantes pour importer le jeux de données de test : \"mnist_test.csv\" et notez vos observations\n",
    "\n",
    "Nous avons créé nos variables d'entraînement X et y, le modèle s'entraînera donc à reconnaître les chiffres contenus dans X à partir du label y.\n",
    "\n",
    "À présent, nous avons besoin d'un jeu de données 'test' qui permettra de vérifier si le modèle s'est bien entrainé.\n",
    "\n",
    "Complétez le code avec le nom du fichier \"mnist_test.csv\" à l'endroit approprié."
   ]
  },
  {
   "cell_type": "code",
   "execution_count": null,
   "metadata": {
    "id": "aohYVMJVLNJw"
   },
   "outputs": [],
   "source": [
    "df_ = \n",
    "df_"
   ]
  },
  {
   "cell_type": "markdown",
   "metadata": {
    "id": "R3ByVTp5GexT"
   },
   "source": [
    "# Remplacez ici la lettre \"n\" par le numéro de la colonne qui correspond à la valeur de l'image"
   ]
  },
  {
   "cell_type": "code",
   "execution_count": null,
   "metadata": {
    "id": "7x41tI1NLlo-"
   },
   "outputs": [],
   "source": [
    "y_test = df_[n]\n",
    "X_test = df_.drop(n, axis=1)"
   ]
  },
  {
   "cell_type": "code",
   "execution_count": null,
   "metadata": {
    "id": "bwoD2s54LsRV"
   },
   "outputs": [],
   "source": [
    "#Exécutez la cellule sans modifier le code.\n",
    "def plot_donnees_test(n):\n",
    "    print(\"L'image contient le chiffre : \", y_test[n])\n",
    "    matplotlib.pyplot.imshow(X_test.values[n].reshape(28,28))\n",
    "\n",
    "\n",
    "plot_donnees_test(n)"
   ]
  },
  {
   "cell_type": "markdown",
   "metadata": {
    "id": "mPH-GKR5L_eh"
   },
   "source": [
    "# 3 Import d'un model\n",
    "\n",
    "## 3.1 Exécutez la cellule suivante pour importer notre premier modèle depuis la bibliothèque Sklearn"
   ]
  },
  {
   "cell_type": "code",
   "execution_count": null,
   "metadata": {
    "id": "c6EqK-XXMFCz"
   },
   "outputs": [],
   "source": [
    "# Ici on importe le monède nommé SVC dans la bibliothèque de machine learning sklearn.\n",
    "from sklearn.svm import SVC\n",
    "# ici on crée une variable model qui contiendra notre model SVC et qui pourra être entrainé.\n",
    "model = SVC()"
   ]
  },
  {
   "cell_type": "markdown",
   "metadata": {
    "id": "kJjFsHdDQEZI"
   },
   "source": [
    "## 3.2 Entrainez votre modèle sur les variables X_train et y_train"
   ]
  },
  {
   "cell_type": "code",
   "execution_count": null,
   "metadata": {
    "colab": {
     "base_uri": "https://localhost:8080/"
    },
    "id": "ZUi6loz-Mi1B",
    "outputId": "e9681f4f-c596-498c-bfad-199c434dfb74"
   },
   "outputs": [],
   "source": [
    "%%time\n",
    "# la commande model.fit(X_train, y_train) permet d'entraîner le modèle sur les variable X et y.\n",
    "# Ajoutez donc les variables dans l'ordre X_train et y_train séparées par une virgule dans la fonction suivante\n",
    "model.fit('à compléter', 'à compléter')"
   ]
  },
  {
   "cell_type": "markdown",
   "metadata": {
    "id": "zBGddKnuQ3A9"
   },
   "source": [
    "## 3.3 Complétez la cellule avec la variable X_test afin de faire une prédiction test\n",
    "\n",
    "Arrivé à ce stade, le modèle s'est entraîné à prédire la valeur qui se trouve sur les images.\n",
    "\n",
    "On lui envoie à présent des valeurs qu'il n'a jamais vu lors de son entrainement afin d'observer s'il se trompe ou non sur le jeu de donnée X_test.\n",
    "\n",
    "La prédiction est stockée dans une variable y_pred (prédiction de y).\n",
    "\n",
    "<b> Complétez le code avec X_test </b>"
   ]
  },
  {
   "cell_type": "code",
   "execution_count": null,
   "metadata": {
    "id": "xSO4LfDbNHrg"
   },
   "outputs": [],
   "source": [
    "%%time\n",
    "# Nous demandons ici au modèle de prédire les numéros des images contenues dans la variable X_test\n",
    "y_pred = model.predict('à compléter')\n",
    "y_pred"
   ]
  },
  {
   "cell_type": "markdown",
   "metadata": {
    "id": "8L7GRFM5Rgp6"
   },
   "source": [
    "## 3.4 Evaluation du modèle\n",
    "\n",
    "Ici, nous allons évaluer le pourcentage des bonnes prédictions en comparant la prédiction y_red et les vraies valeurs y_test.\n",
    "\n",
    "1 signifie que le modèle a eu 100% de bonnes réponses et 0 qu'il s'est trompé sur toutes ses prédictions !\n",
    "\n",
    " <b>Complétez le code avec les valeurs y_test et y_pred </b>"
   ]
  },
  {
   "cell_type": "code",
   "execution_count": null,
   "metadata": {
    "colab": {
     "base_uri": "https://localhost:8080/"
    },
    "id": "jIHh_YLtR3r2",
    "outputId": "a47cc57a-3b66-4d04-ddcc-1ba09c029ca0"
   },
   "outputs": [],
   "source": [
    "# on importe la fonction d'évaluation accuracy de la bibliothèque\n",
    "from sklearn.metrics import accuracy_score\n",
    "\n",
    "accuracy_score('à compléter', 'à compléter')"
   ]
  },
  {
   "cell_type": "markdown",
   "metadata": {
    "id": "TZECxTcZScnw"
   },
   "source": [
    "# 4 Entrînement d'un second modèle\n",
    "\n",
    "Dans cette partie, nous entraînons un second modèle, plus rapides et en théorie plus performant.\n",
    "\n",
    "Réalisez les mêmes étapes que pour la partie 3 en complétant le code avec les bonnes valeurs.\n",
    "\n",
    "<b> Complétez le code avec les valeurs appropriées</b>"
   ]
  },
  {
   "cell_type": "code",
   "execution_count": null,
   "metadata": {
    "id": "gybRUCwaNUHr"
   },
   "outputs": [],
   "source": [
    "%%time\n",
    "# Ici on importe le monède nommé DecisionTreeClassifier dans la bibliothèque de machine learning sklearn.\n",
    "from sklearn.tree import DecisionTreeClassifier\n",
    "model = DecisionTreeClassifier()\n",
    "model.fit('à compléter' , 'à compléter')"
   ]
  },
  {
   "cell_type": "code",
   "execution_count": null,
   "metadata": {
    "id": "ioNna2ciN4ez"
   },
   "outputs": [],
   "source": [
    "y_pred = model.predict('à compléter')\n",
    "y_pred"
   ]
  },
  {
   "cell_type": "code",
   "execution_count": null,
   "metadata": {
    "id": "9J0sSqnRPp9I"
   },
   "outputs": [],
   "source": [
    "accuracy_score('à compléter', 'à compléter')"
   ]
  },
  {
   "cell_type": "markdown",
   "metadata": {
    "id": "O63EBb2eTEVW"
   },
   "source": [
    "## 4.1 Notez vos observations concernant ces deux modèles : temps d'entraînement, score..."
   ]
  },
  {
   "cell_type": "code",
   "execution_count": null,
   "metadata": {
    "id": "iBA6T8baTYSv"
   },
   "outputs": [],
   "source": []
  },
  {
   "cell_type": "code",
   "execution_count": null,
   "metadata": {
    "id": "Hkwk2n_1mOBq"
   },
   "outputs": [],
   "source": []
  }
 ],
 "metadata": {
  "colab": {
   "provenance": []
  },
  "kernelspec": {
   "display_name": "Python 3 (ipykernel)",
   "language": "python",
   "name": "python3"
  },
  "language_info": {
   "codemirror_mode": {
    "name": "ipython",
    "version": 3
   },
   "file_extension": ".py",
   "mimetype": "text/x-python",
   "name": "python",
   "nbconvert_exporter": "python",
   "pygments_lexer": "ipython3",
   "version": "3.10.9"
  },
  "toc": {
   "base_numbering": 1,
   "nav_menu": {},
   "number_sections": true,
   "sideBar": true,
   "skip_h1_title": false,
   "title_cell": "Table of Contents",
   "title_sidebar": "Contents",
   "toc_cell": false,
   "toc_position": {},
   "toc_section_display": true,
   "toc_window_display": false
  },
  "vscode": {
   "interpreter": {
    "hash": "8f9328efe3468e6c370cdfed98702d3986faf748314d5bcec59da615d65baa7a"
   }
  }
 },
 "nbformat": 4,
 "nbformat_minor": 1
}
