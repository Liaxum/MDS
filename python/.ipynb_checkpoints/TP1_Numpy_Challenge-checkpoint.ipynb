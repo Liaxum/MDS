{
 "cells": [
  {
   "cell_type": "markdown",
   "metadata": {
    "id": "6Bp_Mwmd2z5o"
   },
   "source": [
    "# Challenge - NumPy\n",
    "\n",
    "\n",
    "![](https://images.unsplash.com/photo-1476525223214-c31ff100e1ae?ixlib=rb-1.2.1&ixid=eyJhcHBfaWQiOjEyMDd9&auto=format&fit=crop&w=1350&q=80)\n",
    "Picture by [Jason Briscoe](https://unsplash.com/photos/HN_4K2diUWs)"
   ]
  },
  {
   "cell_type": "markdown",
   "metadata": {
    "id": "OlKcpTfb2z5q"
   },
   "source": [
    "Il s'agit d'un exercice où vous devrez passer un peu de temps à explorer la documentation de [NumPy documentation](https://numpy.org/doc/1.18/).\n",
    "\n",
    "Pour installer numpy utilisez la commande suivante dans votre terminal :\n",
    "`pip install numpy`\n",
    "\n",
    "Sur macOS :\n",
    "`pip3 install numpy`\n",
    "\n",
    "\n",
    "\n",
    "Pour vous aider à réaliser ce TD, consultez et utilisez les fonctions suivantes :\n",
    "- `import numpy as np`  : Pour importer la biblothèque numpy,\n",
    "- `np.array([i1,i2,i3])` : Pour créer un vecteur contenant les éléments i1, i2 et i3,\n",
    "- `np.zeros(n)`  : Pour créer un vecteur de taille n contenant uniquement des 0,\n",
    "- `v[i]` : Pour obtenir la valeur à l'index i du vecteur v,\n",
    "- `np.random.randint(n, m, k)` : Pour créer des vecteurs de taille k ayant des valeurs aléatoires comprises entre n (inclus) à m (exclus),\n",
    "- `np.arange(n,m)`  :  Pour créer des vecteurs ayant des valeurs de n à m,\n",
    "- `v.argmax()` : Pour trouver l'indice de la valeur maximale,\n",
    "- `np.nonzero(n)`  : Pour créer des vecteurs de taille n,\n",
    "- `v.reshape(n,m)` : Pour redimensionner un vecteur de taille n,m\n",
    "- `np.eye(n)` : Pour créer une matrice identité de taille n,\n",
    "- `np.nonzero(v)` : Pour trouver les indices des valeurs non nulles deu vecteur v, \n",
    "- `v.mean()` : Pour obtenir la moyenne d'un vecteur,\n",
    "- `v.unique()` : Pour obtenir la liste des valeurs unique d'une matrice.\n",
    "- `v[i] = u` : Pour assigner au vecteur `v` la valeur `u` à l'index `i`.\n",
    "\n",
    "Où i, n, m et k sont des valeurs numériques entières."
   ]
  },
  {
   "cell_type": "markdown",
   "metadata": {
    "id": "3yxLvRgW2z5r"
   },
   "source": [
    "**Q1**. Importez la librairie numpy."
   ]
  },
  {
   "cell_type": "code",
   "execution_count": 1,
   "metadata": {
    "id": "7Et1ovf4_WOY"
   },
   "outputs": [],
   "source": [
    "import numpy as np"
   ]
  },
  {
   "cell_type": "markdown",
   "metadata": {
    "id": "DiXa7VXi2z5s"
   },
   "source": [
    "**Q2**. Créez un vecteur de taille 10 contenant uniquement des 0, la cinquième élément doit être 1. Les valeurs du tableau doivent être des `int`."
   ]
  },
  {
   "cell_type": "code",
   "execution_count": 2,
   "metadata": {
    "id": "sXJu5sm_IeQ_"
   },
   "outputs": [
    {
     "data": {
      "text/plain": [
       "array([0., 0., 0., 0., 0., 0., 0., 0., 0., 0.])"
      ]
     },
     "execution_count": 2,
     "metadata": {},
     "output_type": "execute_result"
    }
   ],
   "source": [
    "np.zeros(10)"
   ]
  },
  {
   "cell_type": "markdown",
   "metadata": {
    "id": "KEpXIIDz2z5s"
   },
   "source": [
    "**Q3**. Créez deux vecteurs aléatoires de taille 5, puis multipliez les vecteur entre-eux."
   ]
  },
  {
   "cell_type": "code",
   "execution_count": 3,
   "metadata": {},
   "outputs": [
    {
     "data": {
      "text/plain": [
       "16"
      ]
     },
     "execution_count": 3,
     "metadata": {},
     "output_type": "execute_result"
    }
   ],
   "source": [
    "v1 = np.random.randint(5)\n",
    "v2 = np.random.randint(5)\n",
    "v1 * v2"
   ]
  },
  {
   "cell_type": "markdown",
   "metadata": {
    "id": "KMWTetaI2z5t"
   },
   "source": [
    "**Q4**. Créez un vecteur avec des valeurs de 10 à 49 puis inversez l'ordre."
   ]
  },
  {
   "cell_type": "code",
   "execution_count": 10,
   "metadata": {
    "id": "hjCA3eHpoyNK"
   },
   "outputs": [
    {
     "data": {
      "text/plain": [
       "array([48, 47, 46, 45, 44, 43, 42, 41, 40, 39, 38, 37, 36, 35, 34, 33, 32,\n",
       "       31, 30, 29, 28, 27, 26, 25, 24, 23, 22, 21, 20, 19, 18, 17, 16, 15,\n",
       "       14, 13, 12, 11, 10])"
      ]
     },
     "execution_count": 10,
     "metadata": {},
     "output_type": "execute_result"
    }
   ],
   "source": [
    "v = np.arange(10, 49)\n",
    "v[::-1]"
   ]
  },
  {
   "cell_type": "markdown",
   "metadata": {
    "id": "vHDUyUey2z5t"
   },
   "source": [
    "**Q5**. Créez un vecteur aléatoire de taille 10 et remplacez la valeur maximale par 0."
   ]
  },
  {
   "cell_type": "code",
   "execution_count": 22,
   "metadata": {
    "id": "p7xqAEJZIfVr"
   },
   "outputs": [
    {
     "data": {
      "text/plain": [
       "array([0, 1, 2, 3, 4, 5, 6, 7, 8, 9, 0])"
      ]
     },
     "execution_count": 22,
     "metadata": {},
     "output_type": "execute_result"
    }
   ],
   "source": [
    "v = np.arange(0, 11)\n",
    "v[v.argmax()] = 0\n",
    "v"
   ]
  },
  {
   "cell_type": "markdown",
   "metadata": {
    "id": "QOKLIhNI2z5u"
   },
   "source": [
    "**Q6**. Créez une matrice de taille 3x3 avec des valeurs allant de 0 à 8 inclus."
   ]
  },
  {
   "cell_type": "code",
   "execution_count": 29,
   "metadata": {
    "id": "P3UFoY6wIfwg"
   },
   "outputs": [
    {
     "data": {
      "text/plain": [
       "array([[0, 0, 0]])"
      ]
     },
     "execution_count": 29,
     "metadata": {},
     "output_type": "execute_result"
    }
   ],
   "source": [
    "np.array([\n",
    "    [0, 0, 0],\n",
    "    [0, 0, 0],\n",
    "    [0, 0, 0]\n",
    "])"
   ]
  },
  {
   "cell_type": "markdown",
   "metadata": {
    "id": "L9XCTjbu2z5u"
   },
   "source": [
    "**Q7**. Créez une matrice d'identité de dimension et de rang 3x3."
   ]
  },
  {
   "cell_type": "code",
   "execution_count": 25,
   "metadata": {
    "id": "wBqRu7VIIgbl"
   },
   "outputs": [
    {
     "data": {
      "text/plain": [
       "array([[1., 0., 0.],\n",
       "       [0., 1., 0.],\n",
       "       [0., 0., 1.]])"
      ]
     },
     "execution_count": 25,
     "metadata": {},
     "output_type": "execute_result"
    }
   ],
   "source": [
    "np.eye(3)"
   ]
  },
  {
   "cell_type": "markdown",
   "metadata": {
    "id": "iAecCDZR2z5v"
   },
   "source": [
    "**Q8**. Créez une matrice de dimension 30 et de rang 1 avec des valeurs entières aléatoires de 0 à 5 inclus. \n",
    "- Trouvez ensuite les indices d'éléments non nuls."
   ]
  },
  {
   "cell_type": "code",
   "execution_count": null,
   "metadata": {
    "id": "zmzVUH8QtF32"
   },
   "outputs": [],
   "source": []
  },
  {
   "cell_type": "markdown",
   "metadata": {
    "id": "WubgUwuD2z5v"
   },
   "source": [
    "**Q9**. Créez un matrice 10x10 avec des valeurs aléatoires et trouvez les valeurs minimales et maximales."
   ]
  },
  {
   "cell_type": "code",
   "execution_count": null,
   "metadata": {
    "id": "7BfesSURIhKF"
   },
   "outputs": [],
   "source": []
  },
  {
   "cell_type": "markdown",
   "metadata": {
    "id": "gLPOP5ZD6Z8s"
   },
   "source": [
    "**Q10**. Pour chaque ligne d'une matrice aléatoire de taille 5x10, soustrayez la moyenne de chaque ligne de cette matrice."
   ]
  },
  {
   "cell_type": "code",
   "execution_count": null,
   "metadata": {
    "id": "YobWvnq4uzuI"
   },
   "outputs": [],
   "source": []
  },
  {
   "cell_type": "markdown",
   "metadata": {
    "id": "S33xE0zf2z5w"
   },
   "source": [
    "**Q11 BONUS**. Ecrivez une fonction qui trouve la valeur la plus fréquente dans un tableau."
   ]
  },
  {
   "cell_type": "code",
   "execution_count": null,
   "metadata": {
    "id": "dAOmKK-I2z5x"
   },
   "outputs": [],
   "source": []
  },
  {
   "cell_type": "markdown",
   "metadata": {
    "id": "4hFRNLQv9_Fh"
   },
   "source": [
    "**Q12BONUS**. Créez une matrice 10x10 avec la valeur 1 sur les bordures et 0 à l'intérieur."
   ]
  },
  {
   "cell_type": "code",
   "execution_count": null,
   "metadata": {
    "id": "jhUR9qTd9-WN"
   },
   "outputs": [],
   "source": []
  },
  {
   "cell_type": "markdown",
   "metadata": {
    "id": "B-kSqzhy-HQt"
   },
   "source": [
    "**Q13BONUS**. Créez une matrice m3 de taille 8x8 puis remplissez-la avec un motif en damier (0,1)."
   ]
  },
  {
   "cell_type": "code",
   "execution_count": null,
   "metadata": {
    "id": "PKCY6Fm6-Msr"
   },
   "outputs": [],
   "source": []
  },
  {
   "cell_type": "markdown",
   "metadata": {
    "id": "8CwK5I3g-Nmm"
   },
   "source": [
    "**Q14BONUS**. Créez un vecteur v5 rempli de 30 valeurs entières aléatoires entre 1 et 10. Transformez en négatif les éléments qui sont entre 3 et 8."
   ]
  },
  {
   "cell_type": "code",
   "execution_count": null,
   "metadata": {
    "id": "c-oFe0_3_Icb"
   },
   "outputs": [],
   "source": []
  }
 ],
 "metadata": {
  "colab": {
   "provenance": []
  },
  "kernelspec": {
   "display_name": "Python 3 (ipykernel)",
   "language": "python",
   "name": "python3"
  },
  "language_info": {
   "codemirror_mode": {
    "name": "ipython",
    "version": 3
   },
   "file_extension": ".py",
   "mimetype": "text/x-python",
   "name": "python",
   "nbconvert_exporter": "python",
   "pygments_lexer": "ipython3",
   "version": "3.10.9"
  },
  "vscode": {
   "interpreter": {
    "hash": "1a1af0ee75eeea9e2e1ee996c87e7a2b11a0bebd85af04bb136d915cefc0abce"
   }
  }
 },
 "nbformat": 4,
 "nbformat_minor": 1
}
