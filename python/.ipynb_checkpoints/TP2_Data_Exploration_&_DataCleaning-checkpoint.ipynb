{
 "cells": [
  {
   "cell_type": "markdown",
   "metadata": {
    "id": "IZ-uC6Y5zdAv"
   },
   "source": [
    "# 02 - Data Observation - Données clients"
   ]
  },
  {
   "cell_type": "markdown",
   "metadata": {
    "id": "JR5H-wm6zdAw"
   },
   "source": [
    "Indiquez vos noms et prénoms :\n",
    "-\n",
    "-\n",
    "-"
   ]
  },
  {
   "cell_type": "markdown",
   "metadata": {
    "id": "D5iOvKClzdAx"
   },
   "source": [
    "---"
   ]
  },
  {
   "cell_type": "markdown",
   "metadata": {
    "id": "d8i7wVkPzdAx"
   },
   "source": [
    "<img src=\"https://www.smartdataforlead.com/wp-content/uploads/2018/04/37436658_m.jpg\" />\n"
   ]
  },
  {
   "cell_type": "markdown",
   "metadata": {
    "id": "gluHdAyczdAx"
   },
   "source": [
    "Approfondissons nos compétences en matière de manipulation de données réelles.\n",
    "\n",
    "Dans ce défi, nous explorerons les informations présentes dans une base de données clients.\n",
    "\n",
    "\n",
    "\n",
    "> **Notre objectif est de visualiser la répartition de nos données.**\n",
    "\n",
    "\n",
    "\n",
    "**Q1**. Téléchargez le jeu de données à l'adresse [suivante](https://drive.google.com/file/d/13EpnupLYyUBs1Y9iFjBglAvQjh4L5vru/view) puis placez-le dans le dossier 'Sample Data'.\n",
    "\n",
    "\n",
    "---\n",
    "\n",
    "**Q2**. Importez la bibliothèque `pandas` qui sera utilisée tout au long dae ce projet."
   ]
  },
  {
   "cell_type": "code",
   "execution_count": null,
   "metadata": {
    "id": "Wna_vCyHzdAy"
   },
   "outputs": [],
   "source": [
    "# Importez pandas avec l'alias pd\n",
    "import pandas as pd\n"
   ]
  },
  {
   "cell_type": "markdown",
   "metadata": {
    "id": "FuqPyzZzzdAy"
   },
   "source": [
    "---\n",
    "\n",
    "## 2. Data Exploration\n",
    "\n",
    "Dans cette partie notre objectifs est d'explorer le jeu de données contenant les informations clients.\n",
    "\n",
    "<img src='https://img.freepik.com/free-vector/business-documents-scanning-electronic-online-doc-with-pie-chart-infographics-data-analytics-annual-report-result-checking-man-with-magnifying-glass-concept-illustration_335657-1770.jpg?w=2000'>\n",
    "\n",
    "Voici la liste des modules de la bibliotèque pandas qui seront utilisés dans cette partie.\n",
    "\n",
    "- `.read_csv('chemin du fichier')` : Pour importer un jeu de données à partir de son 'nom de fichier',\n",
    "- `.head(n)` : Pour afficher les n premières lignes du le jeu de données,\n",
    "\n",
    "- `.columns` : Pour addicher la liste des variable.\n",
    "\n",
    "- `.shape` : Pour afficher les dimensions du jeu de données (nombre de lignes et nombre de colonnes),\n",
    "- `.isna().sum()` : Pour afficher le nombre de valeurs manquantes par colonnes\n",
    "\n",
    "\n",
    "- `.info()` : Pour afficher les informations du jeu de données,\n",
    "- `.describe()` : Pour afficher les données statistiques du jeu de données.\n",
    "\n",
    "\n",
    "---\n",
    "\n",
    "\n",
    "**Q3**. Importez votre le jeux de données client dans une variable nomée df. Affichez ensuite les 10 premières lignes de ce jeu de données."
   ]
  },
  {
   "cell_type": "code",
   "execution_count": null,
   "metadata": {
    "id": "NybTiod6zdAz"
   },
   "outputs": [],
   "source": [
    "# Importez le jeu de données dans une variable df\n",
    "pd.read_csv('./data.csv')\n",
    "\n",
    "# Affichez la variable df\n",
    "pd.head"
   ]
  },
  {
   "cell_type": "markdown",
   "metadata": {
    "id": "v0Kqa_rs6ltf"
   },
   "source": [
    "---\n",
    " **Q4.** Affichez la liste des variables du jeu de données. "
   ]
  },
  {
   "cell_type": "code",
   "execution_count": null,
   "metadata": {
    "id": "jUZXBNik6h5z"
   },
   "outputs": [],
   "source": [
    "#Affichez la liste des variables du jeu de données df\n"
   ]
  },
  {
   "cell_type": "markdown",
   "metadata": {
    "id": "vGccbVQlzdAz"
   },
   "source": [
    "---\n",
    "**Q5**. Affichez les dimensions du jeu de données ainsi que le nombre de valeurs manquantes."
   ]
  },
  {
   "cell_type": "code",
   "execution_count": null,
   "metadata": {
    "id": "oA6g8CiCzdAz",
    "scrolled": false
   },
   "outputs": [],
   "source": [
    "# TODO - Affichez les dimensions\n"
   ]
  },
  {
   "cell_type": "code",
   "execution_count": null,
   "metadata": {
    "id": "IL9FHN6IzdA0"
   },
   "outputs": [],
   "source": [
    "# TODO - Affichez le nombre de valeurs manquantes\n"
   ]
  },
  {
   "cell_type": "markdown",
   "metadata": {
    "id": "AsIi8dkYzdA0"
   },
   "source": [
    "\n",
    "---\n",
    "**Q6**. Notez vos premières observations sur l'ensembles des données affichées, \n",
    "- que contient le jeu de données, quelles sont les variables,\n",
    "- quelles sont les dimension,\n",
    "- quelles sont les variables qui contiennent le plus de données manquantes"
   ]
  },
  {
   "cell_type": "markdown",
   "metadata": {
    "id": "pQW9kvCczdA0"
   },
   "source": [
    "[Zone de texte]"
   ]
  },
  {
   "cell_type": "markdown",
   "metadata": {
    "id": "FjfXnzfWzdA0"
   },
   "source": [
    "\n",
    "\n",
    "---\n",
    "**Q7**. Affichez les informations puis les données statistics du jeu de données.\n"
   ]
  },
  {
   "cell_type": "code",
   "execution_count": null,
   "metadata": {
    "id": "NfZftgVazdA0"
   },
   "outputs": [],
   "source": [
    "# TODO - Affichez les informations du jeu de données\n"
   ]
  },
  {
   "cell_type": "code",
   "execution_count": null,
   "metadata": {
    "id": "Smof5GPLzdA0"
   },
   "outputs": [],
   "source": [
    "# TODO - Affichez les statistics du jeu de données\n"
   ]
  },
  {
   "cell_type": "markdown",
   "metadata": {
    "id": "pxQb8RFozdA1"
   },
   "source": [
    "\n",
    "---\n",
    "**Q8**. Notez vos observtions dans la zone de texte ci-dessous :\n",
    "- Quelles sont les variables qualitatives ?\n",
    "- Quelles sont les variables quantitatives ?\n",
    "- Quel est le poids du jeu de données ?\n",
    "- Que pouvez-vous dire sur l'âge des clients ?\n",
    "- Que pouvez-vous dire sur la taille des familles ?\n",
    "- Que pouvez-vous dire sur le nombre d'exprience professionelle ?"
   ]
  },
  {
   "cell_type": "markdown",
   "metadata": {
    "id": "iqKFJye1zdA1"
   },
   "source": [
    "[Zone de texte]"
   ]
  },
  {
   "cell_type": "markdown",
   "metadata": {
    "id": "uvJ691azzdA1"
   },
   "source": [
    "## 3. Data cleaning\n",
    "\n",
    "Dans cette partie nous allons traiter les données présentes dans notre dataframe en remplaçant les données qualitative par des données quantitatives.\n",
    "\n",
    "<img src='https://miro.medium.com/max/1000/1*ZtO60QvYVzN3rU0VuSSU1g.jpeg'>\n",
    "\n",
    "\n",
    "Ce traitement de donné nous permetra d'utiliser par la suite nos algoritmes de segmentation et de clustering.\n",
    "\n",
    "Voici la liste des traitements que nous appliquerons à notre jeu de données :\n",
    "\n",
    "> 1. Suppressions des lignes contenant des valeurs manquantes,\n",
    "\n",
    "> 2. Suppressions des colonnes inutiles,\n",
    "\n",
    "> 3. Remplacement des données quanlitatives par des données quantitatives,\n",
    "\n",
    "> 4. Sauvegarde du jeu de données après nettoyage.\n",
    "\n",
    "\n",
    "Voici la liste des modules de pandas qui seront utilisés dans cette partie :\n",
    "- `df.dropna()` : Pour supprimer les lignes contenant des valeurs manquantes dans un jeu de données df. Pour concerver les modifications il faudra réassigner la variable df ==> df = df.dropna()\n",
    "\n",
    "\n",
    "- `df.drop(['nom de la colone'], axis=1)` : Pour supprimer une colonne du jeu de données df. Pour concerver les modifications il faudra réassigner la variable df.\n",
    "\n",
    "\n",
    "- `df['nom de la colone'].value_counts()` : Pour afficher la répartion des valeurs de la varialbe mentionnée entre crochet.\n",
    "\n",
    "\n",
    "- `catégorical(df, 'nom de la colone')` : Fonction permettant de remplacer les valeurs qualitatives par des valeurs quantitatives. Pour concerver les modifications il faudra réassigner la variable df ==> df = catégorical(df, 'nom de la colone').\n",
    "\n",
    "\n",
    "- `df.to_csv('fichier.csv')` : Pour sauvegarder votre jeu de données.\n",
    "\n",
    "\n",
    "---\n",
    "**Q9** Exécuter la cellule suivante, elle contient la fonction `catégorical` permettant le traitement de nos données qualitatives."
   ]
  },
  {
   "cell_type": "code",
   "execution_count": null,
   "metadata": {
    "id": "E1EaZGrPzdA1"
   },
   "outputs": [],
   "source": [
    "def catégorical(df, column):\n",
    "    df = df.dropna()\n",
    "    liste_ = list(df[column].value_counts().index)\n",
    "    df[column] = df[column].apply(lambda x: liste_.index(x))\n",
    "    return df"
   ]
  },
  {
   "cell_type": "markdown",
   "metadata": {
    "id": "l_3XjM5PzdA1"
   },
   "source": [
    "---\n",
    "**Q10**. Supprimez les lignes contenant des données manquantes puis affichez le jeu de données. Notez ensuite vos remarques dans une zone de texte."
   ]
  },
  {
   "cell_type": "code",
   "execution_count": null,
   "metadata": {
    "id": "dqbtWNcjzdA1"
   },
   "outputs": [],
   "source": [
    "#TODO -  Supprimez les données manquantes\n"
   ]
  },
  {
   "cell_type": "markdown",
   "metadata": {
    "id": "Jv02TKYMzdA1"
   },
   "source": [
    "[Zone de texte]"
   ]
  },
  {
   "cell_type": "markdown",
   "metadata": {
    "id": "eijKl-E2zdA1"
   },
   "source": [
    "---\n",
    "**Q11**. Supprimez la colonne 'Var_1' ainsi que la colonne 'ID' du jeu de données.\n"
   ]
  },
  {
   "cell_type": "code",
   "execution_count": null,
   "metadata": {
    "id": "dMgFoGKlzdA1"
   },
   "outputs": [],
   "source": [
    "# Suppression de la variable Var_1\n"
   ]
  },
  {
   "cell_type": "code",
   "execution_count": null,
   "metadata": {
    "id": "H6yjoJk0zdA1"
   },
   "outputs": [],
   "source": [
    "# Suppression de la variable ID\n"
   ]
  },
  {
   "cell_type": "markdown",
   "metadata": {
    "id": "PnQQb46XzdA1"
   },
   "source": [
    "---\n",
    "**Q12**. Traitement de la colonne `Gender`\n",
    "\n",
    "- Affichez la répartition des valeurs de la colonne `Gender`,\n",
    "- Notez vos observations dans la zonne de texte,\n",
    "- Appliquez la fonction `catégorial` à la colonne `Gender`,"
   ]
  },
  {
   "cell_type": "code",
   "execution_count": null,
   "metadata": {
    "id": "vXpo2gunzdA1"
   },
   "outputs": [],
   "source": [
    "# Affichez la répartition de la colonne 'Gender'\n"
   ]
  },
  {
   "cell_type": "markdown",
   "metadata": {
    "id": "G6tFDexRzdA2"
   },
   "source": [
    "[Zone de texte]"
   ]
  },
  {
   "cell_type": "code",
   "execution_count": null,
   "metadata": {
    "id": "o7ZjN6bTzdA2"
   },
   "outputs": [],
   "source": [
    "# Remplacez les valeurs qualitatives par des valeurs quantitatives\n"
   ]
  },
  {
   "cell_type": "markdown",
   "metadata": {
    "id": "Cm9xxivizdA2"
   },
   "source": [
    "---\n",
    "**Q13**. Traitement de la colonne `Ever_Married`\n",
    "\n",
    "- Affichez la répartition des valeurs de la colonne `Ever_Married`,\n",
    "- Notez vos observations dans la zonne de texte,\n",
    "- Appliquez la fonction `catégorial` à la colonne `Ever_Married`,"
   ]
  },
  {
   "cell_type": "code",
   "execution_count": null,
   "metadata": {
    "id": "kgQN2g-azdA2"
   },
   "outputs": [],
   "source": [
    "# Affichez la répartition de la colonne 'Ever_Married'\n"
   ]
  },
  {
   "cell_type": "markdown",
   "metadata": {
    "id": "E0KnQ7L9zdA2"
   },
   "source": [
    "[Zone de texte]"
   ]
  },
  {
   "cell_type": "code",
   "execution_count": null,
   "metadata": {
    "id": "pVLJmpRkzdA2"
   },
   "outputs": [],
   "source": [
    "# Remplacez les valeurs qualitatives par des valeurs quantitatives\n"
   ]
  },
  {
   "cell_type": "markdown",
   "metadata": {
    "id": "pbCbowbezdA2"
   },
   "source": [
    "---\n",
    "**Q14**. Traitement de la colonne `Graduated`\n",
    "\n",
    "- Affichez la répartition des valeurs de la colonne `Graduated`,\n",
    "- Notez vos observations dans la zonne de texte,\n",
    "- Appliquez la fonction `catégorial` à la colonne `Graduated`,"
   ]
  },
  {
   "cell_type": "code",
   "execution_count": null,
   "metadata": {
    "id": "vEzMuRZAzdA2"
   },
   "outputs": [],
   "source": [
    "# Affichez la répartition de la colonne 'Graduated'\n"
   ]
  },
  {
   "cell_type": "markdown",
   "metadata": {
    "id": "P9q35DUezdA2"
   },
   "source": [
    "[Zone de texte]"
   ]
  },
  {
   "cell_type": "code",
   "execution_count": null,
   "metadata": {
    "id": "gMfWS-mwzdA2"
   },
   "outputs": [],
   "source": [
    "# Remplacez les valeurs qualitatives par des valeurs quantitatives\n"
   ]
  },
  {
   "cell_type": "markdown",
   "metadata": {
    "id": "JKk53tLxzdA2"
   },
   "source": [
    "---\n",
    "**Q15**. Traitement de la colonne `Profession`\n",
    "\n",
    "- Affichez la répartition des valeurs de la colonne `Profession`,\n",
    "- Notez vos observations dans la zonne de texte,\n",
    "- Appliquez la fonction `catégorial` à la colonne `Profession`,"
   ]
  },
  {
   "cell_type": "code",
   "execution_count": null,
   "metadata": {
    "id": "Y33cWAmqzdA2"
   },
   "outputs": [],
   "source": [
    "#Affichez la répartition de la colonne 'Profession'\n"
   ]
  },
  {
   "cell_type": "markdown",
   "metadata": {
    "id": "A08ZCbH-zdA2"
   },
   "source": [
    "[Zone de texte]"
   ]
  },
  {
   "cell_type": "code",
   "execution_count": null,
   "metadata": {
    "id": "ShztG3W2zdA2"
   },
   "outputs": [],
   "source": [
    "# Remplacez les valeurs qualitatives par des valeurs quantitatives\n"
   ]
  },
  {
   "cell_type": "markdown",
   "metadata": {
    "id": "jBiMc19tzdA2"
   },
   "source": [
    "---\n",
    "**Q16**. Traitement de la colonne `Spending_Score`\n",
    "\n",
    "- Affichez la répartition des valeurs de la colonne `Spending_Score`,\n",
    "- Notez vos observations dans la zonne de texte,\n",
    "- Appliquez la fonction `catégorial` à la colonne `Spending_Score`,"
   ]
  },
  {
   "cell_type": "code",
   "execution_count": null,
   "metadata": {
    "id": "r8JnnDcozdA2"
   },
   "outputs": [],
   "source": [
    "# Affichez la répartition de la colonne 'Spending_Score'\n"
   ]
  },
  {
   "cell_type": "markdown",
   "metadata": {
    "id": "XinRxMAAzdA2"
   },
   "source": [
    "[Zone de texte]"
   ]
  },
  {
   "cell_type": "code",
   "execution_count": null,
   "metadata": {
    "id": "43Slp2vlzdA2"
   },
   "outputs": [],
   "source": [
    "# Remplacez les valeurs qualitatives par des valeurs quantitatives\n"
   ]
  },
  {
   "cell_type": "markdown",
   "metadata": {
    "id": "Ca8qswEWzdA3"
   },
   "source": [
    "---\n",
    "**Q17**. Traitement de la colonne `Segmentation`\n",
    "\n",
    "- Affichez la répartition des valeurs de la colonne `Segmentation`,\n",
    "- Notez vos observations dans la zonne de texte,\n",
    "- Appliquez la fonction `catégorial` à la colonne `Segmentation`,"
   ]
  },
  {
   "cell_type": "code",
   "execution_count": null,
   "metadata": {
    "id": "T2RGugVKzdA3"
   },
   "outputs": [],
   "source": [
    "#TODO - Affichez la répartition de la colonne 'Segmentation'\n"
   ]
  },
  {
   "cell_type": "markdown",
   "metadata": {
    "id": "Wr31tYBizdA3"
   },
   "source": [
    "[Zone de texte]"
   ]
  },
  {
   "cell_type": "code",
   "execution_count": null,
   "metadata": {
    "id": "ZW35-kfzzdA3"
   },
   "outputs": [],
   "source": [
    "# Remplacez les valeurs qualitatives par des valeurs quantitatives\n"
   ]
  },
  {
   "cell_type": "markdown",
   "metadata": {
    "id": "ZOCsPjcuzdA3"
   },
   "source": [
    "---\n",
    "**Q18**. Sauvegardez votre jeu de données dans un fichier nommé 'data_clean.csv'"
   ]
  },
  {
   "cell_type": "code",
   "execution_count": null,
   "metadata": {
    "id": "hm4W3c9qzdA3"
   },
   "outputs": [],
   "source": [
    "# Sauvegardez votre jeu de données\n"
   ]
  },
  {
   "cell_type": "markdown",
   "metadata": {
    "id": "VdzsgSwNzdA3"
   },
   "source": [
    "# 4. Importez un jeu de données quelquonque à partir du des banques de données suivantes :    \n",
    "\n",
    "\n",
    "- https://www.data.gouv.fr/fr/\n",
    "- https://data.education.gouv.fr/pages/accueil/\n",
    "- https://opendata.paris.fr/pages/home/\n",
    "- https://data.ratp.fr/explore/?sort=modified\n",
    "- https://opendata.edf.fr/pages/welcome/?flg=fr \n",
    "- https://msropendata.com/\n",
    "- https://www.kaggle.com/\n",
    "- https://www.reddit.com/r/datasets/\n",
    "\n",
    "Affichez par la suite : \n",
    "- la dimension du jeu de données,\n",
    "- les données statistiques,\n",
    "- le détail des variables,\n",
    "- et procédez au traitement d'une variable qualitative."
   ]
  },
  {
   "cell_type": "code",
   "execution_count": null,
   "metadata": {
    "id": "rPgn0wUoSOKC"
   },
   "outputs": [],
   "source": []
  }
 ],
 "metadata": {
  "colab": {
   "provenance": []
  },
  "kernelspec": {
   "display_name": "Python 3 (ipykernel)",
   "language": "python",
   "name": "python3"
  },
  "language_info": {
   "codemirror_mode": {
    "name": "ipython",
    "version": 3
   },
   "file_extension": ".py",
   "mimetype": "text/x-python",
   "name": "python",
   "nbconvert_exporter": "python",
   "pygments_lexer": "ipython3",
   "version": "3.10.9"
  }
 },
 "nbformat": 4,
 "nbformat_minor": 1
}
